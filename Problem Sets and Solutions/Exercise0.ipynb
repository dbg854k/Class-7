{
 "cells": [
  {
   "cell_type": "markdown",
   "metadata": {},
   "source": [
    "# Exercise 0"
   ]
  },
  {
   "cell_type": "code",
   "execution_count": 1,
   "metadata": {},
   "outputs": [
    {
     "name": "stdout",
     "output_type": "stream",
     "text": [
      "3\n"
     ]
    }
   ],
   "source": [
    "a = 1\n",
    "b = 2\n",
    "c = a + b\n",
    "print(c)"
   ]
  },
  {
   "cell_type": "markdown",
   "metadata": {},
   "source": [
    "**Slicing**"
   ]
  },
  {
   "cell_type": "code",
   "execution_count": 2,
   "metadata": {},
   "outputs": [
    {
     "name": "stdout",
     "output_type": "stream",
     "text": [
      "[0, 1]\n",
      "[2, 3, 4, 5]\n"
     ]
    }
   ],
   "source": [
    "# Define a list\n",
    "x = [0, 1, 2, 3, 4, 5]\n",
    "\n",
    "# print a slice of x, the first two entries\n",
    "print(x[:2])\n",
    "\n",
    "# print a slice of x, the last four entires\n",
    "print(x[2:])"
   ]
  },
  {
   "cell_type": "markdown",
   "metadata": {},
   "source": [
    "**References**"
   ]
  },
  {
   "cell_type": "code",
   "execution_count": 3,
   "metadata": {},
   "outputs": [
    {
     "name": "stdout",
     "output_type": "stream",
     "text": [
      "[1, 2, 4]\n"
     ]
    }
   ],
   "source": [
    "# Define a list\n",
    "x = [1, 2, 3]\n",
    "\n",
    "# Define a variable y which refers to the list of x\n",
    "y = x\n",
    "\n",
    "# Alter the last entry of y\n",
    "y[-1] = 4\n",
    "\n",
    "# print x\n",
    "print(x)"
   ]
  },
  {
   "cell_type": "markdown",
   "metadata": {},
   "source": [
    "**More on references**\n",
    "<br>\n",
    "To ensure that modifications to the variable `y` do not affect `x`, it's necessary to create a copy of `x` and assign it to `y`.\n",
    "<br>\n",
    "This way, `y` becomes an independent entity, allowing changes to be made to `y` without altering `x`."
   ]
  },
  {
   "cell_type": "code",
   "execution_count": 4,
   "metadata": {},
   "outputs": [
    {
     "name": "stdout",
     "output_type": "stream",
     "text": [
      "[1, 2, 3]\n",
      "[1, 2, 4]\n"
     ]
    }
   ],
   "source": [
    "# Define a list\n",
    "x = [1, 2, 3]\n",
    "\n",
    "# Define a variable y which copies the list of x\n",
    "y = x.copy()\n",
    "\n",
    "# Alter the last entry of y\n",
    "y[-1] = 4\n",
    "\n",
    "# print x\n",
    "print(x)\n",
    "\n",
    "# print y\n",
    "print(y)"
   ]
  },
  {
   "cell_type": "markdown",
   "metadata": {},
   "source": [
    "**Loops - Break**"
   ]
  },
  {
   "cell_type": "code",
   "execution_count": 5,
   "metadata": {},
   "outputs": [
    {
     "name": "stdout",
     "output_type": "stream",
     "text": [
      "0\n",
      "1\n"
     ]
    }
   ],
   "source": [
    "# Define a range, a range starts a 0 with stepsize 1 if not specified\n",
    "for i in range (5):\n",
    "    \n",
    "    # if i is more or equal to the third element in the range break\n",
    "    if i >= 2: break\n",
    "\n",
    "    # while i is less than the third element print i\n",
    "    print(i)"
   ]
  },
  {
   "cell_type": "markdown",
   "metadata": {},
   "source": [
    "**Loops - Continue**"
   ]
  },
  {
   "cell_type": "code",
   "execution_count": 6,
   "metadata": {},
   "outputs": [
    {
     "name": "stdout",
     "output_type": "stream",
     "text": [
      "0\n",
      "1\n",
      "3\n",
      "4\n"
     ]
    }
   ],
   "source": [
    "# Define a range, starts a 0 with stepsize 1 if not specified\n",
    "for i in range(5):\n",
    "    \n",
    "    # If i is equal to 2 end the current iteration and move on to the next\n",
    "    if i == 2: continue\n",
    "    \n",
    "    # While i is not 2 print i\n",
    "    print(i)"
   ]
  },
  {
   "cell_type": "markdown",
   "metadata": {},
   "source": [
    "**Conditionals**"
   ]
  },
  {
   "cell_type": "markdown",
   "metadata": {},
   "source": [
    "Why is this good practice?"
   ]
  },
  {
   "cell_type": "code",
   "execution_count": 7,
   "metadata": {},
   "outputs": [
    {
     "name": "stdout",
     "output_type": "stream",
     "text": [
      "just right\n"
     ]
    }
   ],
   "source": [
    "# Define a variable x and set it equal to 3\n",
    "x = 3\n",
    "\n",
    "# Create a conditional/if-statement\n",
    "if x > 3:\n",
    "    print('too big')\n",
    "elif x < 1:\n",
    "    print('too small')\n",
    "else:\n",
    "    print('just right')\n"
   ]
  },
  {
   "cell_type": "markdown",
   "metadata": {},
   "source": [
    "Answer:\n",
    "<br>\n",
    "We handle all cases by using if, elif and else."
   ]
  },
  {
   "cell_type": "markdown",
   "metadata": {},
   "source": [
    "**Functions and Scope**"
   ]
  },
  {
   "cell_type": "code",
   "execution_count": 28,
   "metadata": {},
   "outputs": [
    {
     "name": "stdout",
     "output_type": "stream",
     "text": [
      "2\n",
      "2\n",
      "\n",
      "3\n",
      "2\n"
     ]
    }
   ],
   "source": [
    "# Define a global variable\n",
    "a = 1\n",
    "\n",
    "# define a function f(x)\n",
    "def f(x):\n",
    "    return x + a # a is a global variable\n",
    "\n",
    "# define a function g(x, a=1)\n",
    "def g(x, a=1):\n",
    "    return x + a # a is a local variable (much better)\n",
    "\n",
    "# print f(1)\n",
    "print(f(1))\n",
    "\n",
    "# print g(1)\n",
    "print(g(1))\n",
    "\n",
    "# print a empty line\n",
    "print('')\n",
    "\n",
    "# Change the global variable\n",
    "a = 2\n",
    "\n",
    "# print f(1)\n",
    "print(f(1))\n",
    "\n",
    "# print g(1)\n",
    "print(g(1))"
   ]
  },
  {
   "cell_type": "markdown",
   "metadata": {},
   "source": [
    "**More on functions**\n",
    "<br>\n",
    "If the function g(x, a=1) was defined without setting a=1 as a default value, you would need to explicitly provide both arguments when calling the function. For example, you would call it as g(1, 1) instead."
   ]
  },
  {
   "cell_type": "code",
   "execution_count": 9,
   "metadata": {},
   "outputs": [
    {
     "name": "stdout",
     "output_type": "stream",
     "text": [
      "2\n"
     ]
    }
   ],
   "source": [
    "# define a function g(x, a)\n",
    "def g(x, a):\n",
    "    return x + a\n",
    "\n",
    "# print g(1, 1)\n",
    "print(g(1, 1))"
   ]
  },
  {
   "cell_type": "markdown",
   "metadata": {},
   "source": [
    "**Floating Points**"
   ]
  },
  {
   "cell_type": "code",
   "execution_count": 30,
   "metadata": {},
   "outputs": [
    {
     "name": "stdout",
     "output_type": "stream",
     "text": [
      "False\n",
      "True\n",
      "\n",
      "True\n",
      "True\n",
      "\n",
      "True\n",
      "True\n"
     ]
    }
   ],
   "source": [
    "# Import the module numpy as np\n",
    "import numpy as np\n",
    "\n",
    "# Cannot be precisely represented in binary\n",
    "print(0.1 + 0.2 == 0.3)\n",
    "\n",
    "# Can be precisely represented in binary\n",
    "print(0.5 + 0.5 == 1.0)\n",
    "\n",
    "# print empty line\n",
    "print('')\n",
    "\n",
    "# Instead use np.isclose\n",
    "print(np.isclose(0.1 + 0.2, 0.3))\n",
    "print(np.isclose(1e-200*1e200 * 1e200*1e-200, 1.0))\n",
    "\n",
    "# print empty line\n",
    "print('')\n",
    "\n",
    "# Try np.inf - calulation overflow due to PEMDAS \n",
    "print(np.isinf(1e-200*(1e200*1e200)*1e-200))\n",
    "\n",
    "# Try np.isclose - calculation overflow due to PEMDAS\n",
    "print(np.isclose(1e200 * (1e-200 * 1e-200) * 1e200, 0.0))\n"
   ]
  },
  {
   "cell_type": "markdown",
   "metadata": {},
   "source": [
    "**Important**\n",
    "<br>\n",
    "When working with function you can always find help by using the help(function), i.e.:"
   ]
  },
  {
   "cell_type": "code",
   "execution_count": 11,
   "metadata": {},
   "outputs": [
    {
     "name": "stdout",
     "output_type": "stream",
     "text": [
      "Help on function isclose in module numpy:\n",
      "\n",
      "isclose(a, b, rtol=1e-05, atol=1e-08, equal_nan=False)\n",
      "    Returns a boolean array where two arrays are element-wise equal within a\n",
      "    tolerance.\n",
      "    \n",
      "    The tolerance values are positive, typically very small numbers.  The\n",
      "    relative difference (`rtol` * abs(`b`)) and the absolute difference\n",
      "    `atol` are added together to compare against the absolute difference\n",
      "    between `a` and `b`.\n",
      "    \n",
      "    .. warning:: The default `atol` is not appropriate for comparing numbers\n",
      "                 that are much smaller than one (see Notes).\n",
      "    \n",
      "    Parameters\n",
      "    ----------\n",
      "    a, b : array_like\n",
      "        Input arrays to compare.\n",
      "    rtol : float\n",
      "        The relative tolerance parameter (see Notes).\n",
      "    atol : float\n",
      "        The absolute tolerance parameter (see Notes).\n",
      "    equal_nan : bool\n",
      "        Whether to compare NaN's as equal.  If True, NaN's in `a` will be\n",
      "        considered equal to NaN's in `b` in the output array.\n",
      "    \n",
      "    Returns\n",
      "    -------\n",
      "    y : array_like\n",
      "        Returns a boolean array of where `a` and `b` are equal within the\n",
      "        given tolerance. If both `a` and `b` are scalars, returns a single\n",
      "        boolean value.\n",
      "    \n",
      "    See Also\n",
      "    --------\n",
      "    allclose\n",
      "    math.isclose\n",
      "    \n",
      "    Notes\n",
      "    -----\n",
      "    .. versionadded:: 1.7.0\n",
      "    \n",
      "    For finite values, isclose uses the following equation to test whether\n",
      "    two floating point values are equivalent.\n",
      "    \n",
      "     absolute(`a` - `b`) <= (`atol` + `rtol` * absolute(`b`))\n",
      "    \n",
      "    Unlike the built-in `math.isclose`, the above equation is not symmetric\n",
      "    in `a` and `b` -- it assumes `b` is the reference value -- so that\n",
      "    `isclose(a, b)` might be different from `isclose(b, a)`. Furthermore,\n",
      "    the default value of atol is not zero, and is used to determine what\n",
      "    small values should be considered close to zero. The default value is\n",
      "    appropriate for expected values of order unity: if the expected values\n",
      "    are significantly smaller than one, it can result in false positives.\n",
      "    `atol` should be carefully selected for the use case at hand. A zero value\n",
      "    for `atol` will result in `False` if either `a` or `b` is zero.\n",
      "    \n",
      "    `isclose` is not defined for non-numeric data types.\n",
      "    `bool` is considered a numeric data-type for this purpose.\n",
      "    \n",
      "    Examples\n",
      "    --------\n",
      "    >>> np.isclose([1e10,1e-7], [1.00001e10,1e-8])\n",
      "    array([ True, False])\n",
      "    >>> np.isclose([1e10,1e-8], [1.00001e10,1e-9])\n",
      "    array([ True, True])\n",
      "    >>> np.isclose([1e10,1e-8], [1.0001e10,1e-9])\n",
      "    array([False,  True])\n",
      "    >>> np.isclose([1.0, np.nan], [1.0, np.nan])\n",
      "    array([ True, False])\n",
      "    >>> np.isclose([1.0, np.nan], [1.0, np.nan], equal_nan=True)\n",
      "    array([ True, True])\n",
      "    >>> np.isclose([1e-8, 1e-7], [0.0, 0.0])\n",
      "    array([ True, False])\n",
      "    >>> np.isclose([1e-100, 1e-7], [0.0, 0.0], atol=0.0)\n",
      "    array([False, False])\n",
      "    >>> np.isclose([1e-10, 1e-10], [1e-20, 0.0])\n",
      "    array([ True,  True])\n",
      "    >>> np.isclose([1e-10, 1e-10], [1e-20, 0.999999e-10], atol=0.0)\n",
      "    array([False,  True])\n",
      "\n"
     ]
    }
   ],
   "source": [
    "help(np.isclose)"
   ]
  },
  {
   "cell_type": "markdown",
   "metadata": {},
   "source": [
    "**Numpy**"
   ]
  },
  {
   "cell_type": "code",
   "execution_count": 32,
   "metadata": {},
   "outputs": [
    {
     "name": "stdout",
     "output_type": "stream",
     "text": [
      "[3 4 5]\n",
      "\n",
      "[4 5 6]\n"
     ]
    }
   ],
   "source": [
    "# Import the module numpy as np\n",
    "import numpy as np\n",
    "\n",
    "x = np.array([1, 2, 3])\n",
    "\n",
    "# Define a variable y which refers to the list of x\n",
    "y = x\n",
    "\n",
    "# Modifies the array in place\n",
    "x += 1\n",
    "x[:] = x + 1\n",
    "\n",
    "# Creates a new array seperate from y\n",
    "x = x + 1\n",
    "\n",
    "# print y\n",
    "print(y)\n",
    "\n",
    "# print empty line\n",
    "print('')\n",
    "\n",
    "# print x\n",
    "print(x)"
   ]
  },
  {
   "cell_type": "markdown",
   "metadata": {},
   "source": [
    "**Classes**"
   ]
  },
  {
   "cell_type": "code",
   "execution_count": 13,
   "metadata": {},
   "outputs": [
    {
     "name": "stdout",
     "output_type": "stream",
     "text": [
      "4\n"
     ]
    }
   ],
   "source": [
    "# Define a class named SquareClass to represent squares.\n",
    "class SquareClass:\n",
    "    # The __init__ method is a special method called a constructor. It is automatically\n",
    "    # invoked when a new instance of the class is created. The purpose of this method\n",
    "    # is to initialize the newly created object's state.\n",
    "    def __init__(self, length, width):\n",
    "        # `self` represents the instance of the class. It is the first argument to the\n",
    "        # methods of a class. Using `self`, we can access the attributes and methods of\n",
    "        # the class in Python. It binds the attributes with the given arguments.\n",
    "        \n",
    "        # `self.length` and `self.width` are instance variables. They are being\n",
    "        # initialized with the values passed to the __init__ method upon the object's\n",
    "        # creation. This allows each instance of SquareClass to have its own length and\n",
    "        # width values.\n",
    "        self.length = length\n",
    "        self.width = width\n",
    "    \n",
    "    # This is an instance method that calculates and returns the area of the square.\n",
    "    # Instance methods need a reference to the specific object instance (self) to access\n",
    "    # its attributes and other methods. This method uses `self.length` and `self.width`\n",
    "    # to access the square's length and width that were stored in the instance variables\n",
    "    # when the object was instantiated.\n",
    "    def size(self):\n",
    "        return self.length * self.width\n",
    "\n",
    "# Creating an instance (object) of the SquareClass. This action calls the __init__ method\n",
    "# of SquareClass with `length=2` and `width=2`, initializing the new square object's\n",
    "# attributes with these values. The variable `square` now refers to this new object.\n",
    "square = SquareClass(2, 2)\n",
    "\n",
    "# Print the area of the square. This calls the size method of the object referred to by\n",
    "# `square`, which calculates the area based on the object's length and width attributes.\n",
    "print(square.size())\n"
   ]
  }
 ],
 "metadata": {
  "kernelspec": {
   "display_name": "base",
   "language": "python",
   "name": "python3"
  },
  "language_info": {
   "codemirror_mode": {
    "name": "ipython",
    "version": 3
   },
   "file_extension": ".py",
   "mimetype": "text/x-python",
   "name": "python",
   "nbconvert_exporter": "python",
   "pygments_lexer": "ipython3",
   "version": "3.9.16"
  }
 },
 "nbformat": 4,
 "nbformat_minor": 2
}
