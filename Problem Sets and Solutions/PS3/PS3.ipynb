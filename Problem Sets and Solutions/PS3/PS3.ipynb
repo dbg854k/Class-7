{
 "cells": [
  {
   "cell_type": "markdown",
   "metadata": {},
   "source": [
    "# Problem set 3: Loading and structuring data from Denmark Statistics"
   ]
  },
  {
   "cell_type": "code",
   "execution_count": 1,
   "metadata": {},
   "outputs": [],
   "source": [
    "# Import modeles \n",
    "import numpy as np\n",
    "import pandas as pd\n",
    "import matplotlib.pyplot as plt\n",
    "import ipywidgets as widgets\n",
    "from IPython.display import display\n",
    "\n",
    "\n",
    "# Set styles, formats and magic\n",
    "pd.options.display.float_format = '{:,.3f}'.format\n",
    "%matplotlib inline\n",
    "plt.style.use(\"seaborn-v0_8-whitegrid\")"
   ]
  },
  {
   "cell_type": "markdown",
   "metadata": {},
   "source": [
    "# Tasks"
   ]
  },
  {
   "cell_type": "markdown",
   "metadata": {},
   "source": [
    "## Create a pandas DataFrame"
   ]
  },
  {
   "cell_type": "markdown",
   "metadata": {},
   "source": [
    "**Question:**"
   ]
  },
  {
   "cell_type": "markdown",
   "metadata": {},
   "source": [
    "Modify the code below such that *income* and *consumption* are variables in the *dt* DataFrame."
   ]
  },
  {
   "cell_type": "code",
   "execution_count": 2,
   "metadata": {},
   "outputs": [
    {
     "data": {
      "text/html": [
       "<div>\n",
       "<style scoped>\n",
       "    .dataframe tbody tr th:only-of-type {\n",
       "        vertical-align: middle;\n",
       "    }\n",
       "\n",
       "    .dataframe tbody tr th {\n",
       "        vertical-align: top;\n",
       "    }\n",
       "\n",
       "    .dataframe thead th {\n",
       "        text-align: right;\n",
       "    }\n",
       "</style>\n",
       "<table border=\"1\" class=\"dataframe\">\n",
       "  <thead>\n",
       "    <tr style=\"text-align: right;\">\n",
       "      <th></th>\n",
       "      <th>id</th>\n",
       "    </tr>\n",
       "  </thead>\n",
       "  <tbody>\n",
       "    <tr>\n",
       "      <th>0</th>\n",
       "      <td>0</td>\n",
       "    </tr>\n",
       "    <tr>\n",
       "      <th>1</th>\n",
       "      <td>1</td>\n",
       "    </tr>\n",
       "    <tr>\n",
       "      <th>2</th>\n",
       "      <td>2</td>\n",
       "    </tr>\n",
       "    <tr>\n",
       "      <th>3</th>\n",
       "      <td>3</td>\n",
       "    </tr>\n",
       "    <tr>\n",
       "      <th>4</th>\n",
       "      <td>4</td>\n",
       "    </tr>\n",
       "  </tbody>\n",
       "</table>\n",
       "</div>"
      ],
      "text/plain": [
       "   id\n",
       "0   0\n",
       "1   1\n",
       "2   2\n",
       "3   3\n",
       "4   4"
      ]
     },
     "execution_count": 2,
     "metadata": {},
     "output_type": "execute_result"
    }
   ],
   "source": [
    "np.random.seed(1999)\n",
    "\n",
    "N = 100\n",
    "mydata = {}\n",
    "mydata['id'] = range(N)\n",
    "income = np.exp(np.random.normal(size=N))\n",
    "consumption = np.sqrt(income)\n",
    "\n",
    "dt = pd.DataFrame(mydata)\n",
    "dt.head()"
   ]
  },
  {
   "cell_type": "markdown",
   "metadata": {},
   "source": [
    "**Answer:**\n",
    "<br>\n",
    "See below or A01\n"
   ]
  },
  {
   "cell_type": "markdown",
   "metadata": {},
   "source": [
    "The slow way:"
   ]
  },
  {
   "cell_type": "code",
   "execution_count": 3,
   "metadata": {},
   "outputs": [
    {
     "data": {
      "text/html": [
       "<div>\n",
       "<style scoped>\n",
       "    .dataframe tbody tr th:only-of-type {\n",
       "        vertical-align: middle;\n",
       "    }\n",
       "\n",
       "    .dataframe tbody tr th {\n",
       "        vertical-align: top;\n",
       "    }\n",
       "\n",
       "    .dataframe thead th {\n",
       "        text-align: right;\n",
       "    }\n",
       "</style>\n",
       "<table border=\"1\" class=\"dataframe\">\n",
       "  <thead>\n",
       "    <tr style=\"text-align: right;\">\n",
       "      <th></th>\n",
       "      <th>id</th>\n",
       "      <th>income</th>\n",
       "      <th>consumption</th>\n",
       "    </tr>\n",
       "  </thead>\n",
       "  <tbody>\n",
       "    <tr>\n",
       "      <th>0</th>\n",
       "      <td>0</td>\n",
       "      <td>0.728</td>\n",
       "      <td>0.853</td>\n",
       "    </tr>\n",
       "    <tr>\n",
       "      <th>1</th>\n",
       "      <td>1</td>\n",
       "      <td>1.998</td>\n",
       "      <td>1.413</td>\n",
       "    </tr>\n",
       "    <tr>\n",
       "      <th>2</th>\n",
       "      <td>2</td>\n",
       "      <td>0.277</td>\n",
       "      <td>0.526</td>\n",
       "    </tr>\n",
       "    <tr>\n",
       "      <th>3</th>\n",
       "      <td>3</td>\n",
       "      <td>1.482</td>\n",
       "      <td>1.217</td>\n",
       "    </tr>\n",
       "    <tr>\n",
       "      <th>4</th>\n",
       "      <td>4</td>\n",
       "      <td>1.236</td>\n",
       "      <td>1.112</td>\n",
       "    </tr>\n",
       "  </tbody>\n",
       "</table>\n",
       "</div>"
      ],
      "text/plain": [
       "   id  income  consumption\n",
       "0   0   0.728        0.853\n",
       "1   1   1.998        1.413\n",
       "2   2   0.277        0.526\n",
       "3   3   1.482        1.217\n",
       "4   4   1.236        1.112"
      ]
     },
     "execution_count": 3,
     "metadata": {},
     "output_type": "execute_result"
    }
   ],
   "source": [
    "# Set a seed for specifying income and consumption\n",
    "np.random.seed(1999)\n",
    "\n",
    "# Set number of values in range\n",
    "N = 100\n",
    "\n",
    "# Create a dictionary\n",
    "mydata = {}\n",
    "\n",
    "# Create a key for the id and assign id-values of range(N)\n",
    "mydata['id'] = range(N)\n",
    "\n",
    "# Create psuedo-random values for income and consumption\n",
    "income = np.exp(np.random.normal(size=N))\n",
    "consumption = np.sqrt(income)\n",
    "\n",
    "# Create keys for income and consumption and assign values\n",
    "mydata['income'] = income\n",
    "mydata['consumption'] = consumption\n",
    "\n",
    "# Use the dictionary 'mydata' to create a pd.DataFrame\n",
    "dt = pd.DataFrame(mydata)\n",
    "\n",
    "# Display the head(implicitly the first 5 rows) of the DataFrame\n",
    "dt.head()"
   ]
  },
  {
   "cell_type": "markdown",
   "metadata": {},
   "source": [
    "The fast way:"
   ]
  },
  {
   "cell_type": "code",
   "execution_count": 4,
   "metadata": {},
   "outputs": [
    {
     "data": {
      "text/html": [
       "<div>\n",
       "<style scoped>\n",
       "    .dataframe tbody tr th:only-of-type {\n",
       "        vertical-align: middle;\n",
       "    }\n",
       "\n",
       "    .dataframe tbody tr th {\n",
       "        vertical-align: top;\n",
       "    }\n",
       "\n",
       "    .dataframe thead th {\n",
       "        text-align: right;\n",
       "    }\n",
       "</style>\n",
       "<table border=\"1\" class=\"dataframe\">\n",
       "  <thead>\n",
       "    <tr style=\"text-align: right;\">\n",
       "      <th></th>\n",
       "      <th>id</th>\n",
       "      <th>income</th>\n",
       "      <th>consumption</th>\n",
       "    </tr>\n",
       "  </thead>\n",
       "  <tbody>\n",
       "    <tr>\n",
       "      <th>0</th>\n",
       "      <td>0</td>\n",
       "      <td>0.728</td>\n",
       "      <td>0.853</td>\n",
       "    </tr>\n",
       "    <tr>\n",
       "      <th>1</th>\n",
       "      <td>1</td>\n",
       "      <td>1.998</td>\n",
       "      <td>1.413</td>\n",
       "    </tr>\n",
       "    <tr>\n",
       "      <th>2</th>\n",
       "      <td>2</td>\n",
       "      <td>0.277</td>\n",
       "      <td>0.526</td>\n",
       "    </tr>\n",
       "    <tr>\n",
       "      <th>3</th>\n",
       "      <td>3</td>\n",
       "      <td>1.482</td>\n",
       "      <td>1.217</td>\n",
       "    </tr>\n",
       "    <tr>\n",
       "      <th>4</th>\n",
       "      <td>4</td>\n",
       "      <td>1.236</td>\n",
       "      <td>1.112</td>\n",
       "    </tr>\n",
       "  </tbody>\n",
       "</table>\n",
       "</div>"
      ],
      "text/plain": [
       "   id  income  consumption\n",
       "0   0   0.728        0.853\n",
       "1   1   1.998        1.413\n",
       "2   2   0.277        0.526\n",
       "3   3   1.482        1.217\n",
       "4   4   1.236        1.112"
      ]
     },
     "execution_count": 4,
     "metadata": {},
     "output_type": "execute_result"
    }
   ],
   "source": [
    "# Set a seed for specifying income and consumption\n",
    "np.random.seed(1999)\n",
    "\n",
    "# Set number of values in range\n",
    "N = 100\n",
    "\n",
    "# Create a dictionary\n",
    "mydata = {}\n",
    "\n",
    "# Create a key for the id and assign id-values of range(N)\n",
    "mydata['id'] = range(N)\n",
    "\n",
    "# Create a key for the income and assign values from a standard normal distribution\n",
    "mydata['income'] = np.exp(np.random.normal(size=N))\n",
    "\n",
    "# Create a key for consumption with values as a function of the income key values\n",
    "mydata['consumption'] = np.sqrt(mydata['income'])\n",
    "\n",
    "# Use the dictionary 'mydata' to create a pd.DataFrame\n",
    "dt = pd.DataFrame(mydata)\n",
    "\n",
    "# Display the head(implicitly the first 5 rows) of the DataFrame\n",
    "dt.head()"
   ]
  },
  {
   "cell_type": "markdown",
   "metadata": {},
   "source": [
    "## Create new variable"
   ]
  },
  {
   "cell_type": "markdown",
   "metadata": {},
   "source": [
    "**Question:**\n",
    "<br>\n",
    "Add a new variable *ratio* which is the ratio of consumption to income"
   ]
  },
  {
   "cell_type": "markdown",
   "metadata": {},
   "source": [
    "**Answer:**\n",
    "<br>\n",
    "See below or A02"
   ]
  },
  {
   "cell_type": "markdown",
   "metadata": {},
   "source": [
    "The slow way:"
   ]
  },
  {
   "cell_type": "code",
   "execution_count": 5,
   "metadata": {},
   "outputs": [
    {
     "data": {
      "text/html": [
       "<div>\n",
       "<style scoped>\n",
       "    .dataframe tbody tr th:only-of-type {\n",
       "        vertical-align: middle;\n",
       "    }\n",
       "\n",
       "    .dataframe tbody tr th {\n",
       "        vertical-align: top;\n",
       "    }\n",
       "\n",
       "    .dataframe thead th {\n",
       "        text-align: right;\n",
       "    }\n",
       "</style>\n",
       "<table border=\"1\" class=\"dataframe\">\n",
       "  <thead>\n",
       "    <tr style=\"text-align: right;\">\n",
       "      <th></th>\n",
       "      <th>id</th>\n",
       "      <th>income</th>\n",
       "      <th>consumption</th>\n",
       "      <th>ratio</th>\n",
       "    </tr>\n",
       "  </thead>\n",
       "  <tbody>\n",
       "    <tr>\n",
       "      <th>0</th>\n",
       "      <td>0</td>\n",
       "      <td>0.728</td>\n",
       "      <td>0.853</td>\n",
       "      <td>1.172</td>\n",
       "    </tr>\n",
       "    <tr>\n",
       "      <th>1</th>\n",
       "      <td>1</td>\n",
       "      <td>1.998</td>\n",
       "      <td>1.413</td>\n",
       "      <td>0.707</td>\n",
       "    </tr>\n",
       "    <tr>\n",
       "      <th>2</th>\n",
       "      <td>2</td>\n",
       "      <td>0.277</td>\n",
       "      <td>0.526</td>\n",
       "      <td>1.901</td>\n",
       "    </tr>\n",
       "    <tr>\n",
       "      <th>3</th>\n",
       "      <td>3</td>\n",
       "      <td>1.482</td>\n",
       "      <td>1.217</td>\n",
       "      <td>0.821</td>\n",
       "    </tr>\n",
       "    <tr>\n",
       "      <th>4</th>\n",
       "      <td>4</td>\n",
       "      <td>1.236</td>\n",
       "      <td>1.112</td>\n",
       "      <td>0.900</td>\n",
       "    </tr>\n",
       "  </tbody>\n",
       "</table>\n",
       "</div>"
      ],
      "text/plain": [
       "   id  income  consumption  ratio\n",
       "0   0   0.728        0.853  1.172\n",
       "1   1   1.998        1.413  0.707\n",
       "2   2   0.277        0.526  1.901\n",
       "3   3   1.482        1.217  0.821\n",
       "4   4   1.236        1.112  0.900"
      ]
     },
     "execution_count": 5,
     "metadata": {},
     "output_type": "execute_result"
    }
   ],
   "source": [
    "# Create a key for ratio with values as a function of the consumption and income key values\n",
    "mydata['ratio'] = mydata['consumption'] / mydata['income']\n",
    "\n",
    "# Use the dictionary 'mydata' to create a pd.DataFrame\n",
    "dt = pd.DataFrame(mydata)\n",
    "\n",
    "# Display the head(implicitly the first 5 rows) of the DataFrame\n",
    "dt.head()"
   ]
  },
  {
   "cell_type": "markdown",
   "metadata": {},
   "source": [
    "The fast way:"
   ]
  },
  {
   "cell_type": "code",
   "execution_count": 6,
   "metadata": {},
   "outputs": [
    {
     "data": {
      "text/html": [
       "<div>\n",
       "<style scoped>\n",
       "    .dataframe tbody tr th:only-of-type {\n",
       "        vertical-align: middle;\n",
       "    }\n",
       "\n",
       "    .dataframe tbody tr th {\n",
       "        vertical-align: top;\n",
       "    }\n",
       "\n",
       "    .dataframe thead th {\n",
       "        text-align: right;\n",
       "    }\n",
       "</style>\n",
       "<table border=\"1\" class=\"dataframe\">\n",
       "  <thead>\n",
       "    <tr style=\"text-align: right;\">\n",
       "      <th></th>\n",
       "      <th>id</th>\n",
       "      <th>income</th>\n",
       "      <th>consumption</th>\n",
       "      <th>ratio</th>\n",
       "    </tr>\n",
       "  </thead>\n",
       "  <tbody>\n",
       "    <tr>\n",
       "      <th>0</th>\n",
       "      <td>0</td>\n",
       "      <td>0.728</td>\n",
       "      <td>0.853</td>\n",
       "      <td>1.172</td>\n",
       "    </tr>\n",
       "    <tr>\n",
       "      <th>1</th>\n",
       "      <td>1</td>\n",
       "      <td>1.998</td>\n",
       "      <td>1.413</td>\n",
       "      <td>0.707</td>\n",
       "    </tr>\n",
       "    <tr>\n",
       "      <th>2</th>\n",
       "      <td>2</td>\n",
       "      <td>0.277</td>\n",
       "      <td>0.526</td>\n",
       "      <td>1.901</td>\n",
       "    </tr>\n",
       "    <tr>\n",
       "      <th>3</th>\n",
       "      <td>3</td>\n",
       "      <td>1.482</td>\n",
       "      <td>1.217</td>\n",
       "      <td>0.821</td>\n",
       "    </tr>\n",
       "    <tr>\n",
       "      <th>4</th>\n",
       "      <td>4</td>\n",
       "      <td>1.236</td>\n",
       "      <td>1.112</td>\n",
       "      <td>0.900</td>\n",
       "    </tr>\n",
       "  </tbody>\n",
       "</table>\n",
       "</div>"
      ],
      "text/plain": [
       "   id  income  consumption  ratio\n",
       "0   0   0.728        0.853  1.172\n",
       "1   1   1.998        1.413  0.707\n",
       "2   2   0.277        0.526  1.901\n",
       "3   3   1.482        1.217  0.821\n",
       "4   4   1.236        1.112  0.900"
      ]
     },
     "execution_count": 6,
     "metadata": {},
     "output_type": "execute_result"
    }
   ],
   "source": [
    "# Create the pd.DataFrame column ratio as function of the columns consumption and income\n",
    "dt['ratio'] = dt['consumption'] / dt['income']\n",
    "\n",
    "# Display the head(implicitly the first 5 rows) of the DataFrame\n",
    "dt.head()"
   ]
  },
  {
   "cell_type": "markdown",
   "metadata": {},
   "source": [
    "## Summary statistics"
   ]
  },
  {
   "cell_type": "markdown",
   "metadata": {},
   "source": [
    "**Question:**\n",
    "<br>\n",
    "Produce summary statistics using `.describe()`."
   ]
  },
  {
   "cell_type": "markdown",
   "metadata": {},
   "source": [
    "**Answer:**\n",
    "<br>\n",
    "See below or A03\n"
   ]
  },
  {
   "cell_type": "markdown",
   "metadata": {},
   "source": [
    "Display summary statistics with a lot of decimals"
   ]
  },
  {
   "cell_type": "code",
   "execution_count": 7,
   "metadata": {},
   "outputs": [
    {
     "data": {
      "text/html": [
       "<div>\n",
       "<style scoped>\n",
       "    .dataframe tbody tr th:only-of-type {\n",
       "        vertical-align: middle;\n",
       "    }\n",
       "\n",
       "    .dataframe tbody tr th {\n",
       "        vertical-align: top;\n",
       "    }\n",
       "\n",
       "    .dataframe thead th {\n",
       "        text-align: right;\n",
       "    }\n",
       "</style>\n",
       "<table border=\"1\" class=\"dataframe\">\n",
       "  <thead>\n",
       "    <tr style=\"text-align: right;\">\n",
       "      <th></th>\n",
       "      <th>id</th>\n",
       "      <th>income</th>\n",
       "      <th>consumption</th>\n",
       "      <th>ratio</th>\n",
       "    </tr>\n",
       "  </thead>\n",
       "  <tbody>\n",
       "    <tr>\n",
       "      <th>count</th>\n",
       "      <td>100.000</td>\n",
       "      <td>100.000</td>\n",
       "      <td>100.000</td>\n",
       "      <td>100.000</td>\n",
       "    </tr>\n",
       "    <tr>\n",
       "      <th>mean</th>\n",
       "      <td>49.500</td>\n",
       "      <td>1.416</td>\n",
       "      <td>1.088</td>\n",
       "      <td>1.118</td>\n",
       "    </tr>\n",
       "    <tr>\n",
       "      <th>std</th>\n",
       "      <td>29.011</td>\n",
       "      <td>1.322</td>\n",
       "      <td>0.484</td>\n",
       "      <td>0.525</td>\n",
       "    </tr>\n",
       "    <tr>\n",
       "      <th>min</th>\n",
       "      <td>0.000</td>\n",
       "      <td>0.108</td>\n",
       "      <td>0.329</td>\n",
       "      <td>0.351</td>\n",
       "    </tr>\n",
       "    <tr>\n",
       "      <th>25%</th>\n",
       "      <td>24.750</td>\n",
       "      <td>0.529</td>\n",
       "      <td>0.728</td>\n",
       "      <td>0.752</td>\n",
       "    </tr>\n",
       "    <tr>\n",
       "      <th>50%</th>\n",
       "      <td>49.500</td>\n",
       "      <td>0.981</td>\n",
       "      <td>0.991</td>\n",
       "      <td>1.010</td>\n",
       "    </tr>\n",
       "    <tr>\n",
       "      <th>75%</th>\n",
       "      <td>74.250</td>\n",
       "      <td>1.768</td>\n",
       "      <td>1.330</td>\n",
       "      <td>1.374</td>\n",
       "    </tr>\n",
       "    <tr>\n",
       "      <th>max</th>\n",
       "      <td>99.000</td>\n",
       "      <td>8.111</td>\n",
       "      <td>2.848</td>\n",
       "      <td>3.037</td>\n",
       "    </tr>\n",
       "  </tbody>\n",
       "</table>\n",
       "</div>"
      ],
      "text/plain": [
       "           id  income  consumption   ratio\n",
       "count 100.000 100.000      100.000 100.000\n",
       "mean   49.500   1.416        1.088   1.118\n",
       "std    29.011   1.322        0.484   0.525\n",
       "min     0.000   0.108        0.329   0.351\n",
       "25%    24.750   0.529        0.728   0.752\n",
       "50%    49.500   0.981        0.991   1.010\n",
       "75%    74.250   1.768        1.330   1.374\n",
       "max    99.000   8.111        2.848   3.037"
      ]
     },
     "execution_count": 7,
     "metadata": {},
     "output_type": "execute_result"
    }
   ],
   "source": [
    "# Display summary statistics\n",
    "dt.describe()"
   ]
  },
  {
   "cell_type": "markdown",
   "metadata": {},
   "source": [
    "## Indexing"
   ]
  },
  {
   "cell_type": "markdown",
   "metadata": {},
   "source": [
    "**Question:**\n",
    "<br>\n",
    "Select everybody with an income above 1."
   ]
  },
  {
   "cell_type": "markdown",
   "metadata": {},
   "source": [
    "**Answer:**\n",
    "<br>\n",
    "See below or A04\n"
   ]
  },
  {
   "cell_type": "code",
   "execution_count": 8,
   "metadata": {},
   "outputs": [
    {
     "data": {
      "text/html": [
       "<div>\n",
       "<style scoped>\n",
       "    .dataframe tbody tr th:only-of-type {\n",
       "        vertical-align: middle;\n",
       "    }\n",
       "\n",
       "    .dataframe tbody tr th {\n",
       "        vertical-align: top;\n",
       "    }\n",
       "\n",
       "    .dataframe thead th {\n",
       "        text-align: right;\n",
       "    }\n",
       "</style>\n",
       "<table border=\"1\" class=\"dataframe\">\n",
       "  <thead>\n",
       "    <tr style=\"text-align: right;\">\n",
       "      <th></th>\n",
       "      <th>id</th>\n",
       "      <th>income</th>\n",
       "      <th>consumption</th>\n",
       "      <th>ratio</th>\n",
       "    </tr>\n",
       "  </thead>\n",
       "  <tbody>\n",
       "    <tr>\n",
       "      <th>1</th>\n",
       "      <td>1</td>\n",
       "      <td>1.998</td>\n",
       "      <td>1.413</td>\n",
       "      <td>0.707</td>\n",
       "    </tr>\n",
       "    <tr>\n",
       "      <th>3</th>\n",
       "      <td>3</td>\n",
       "      <td>1.482</td>\n",
       "      <td>1.217</td>\n",
       "      <td>0.821</td>\n",
       "    </tr>\n",
       "    <tr>\n",
       "      <th>4</th>\n",
       "      <td>4</td>\n",
       "      <td>1.236</td>\n",
       "      <td>1.112</td>\n",
       "      <td>0.900</td>\n",
       "    </tr>\n",
       "    <tr>\n",
       "      <th>6</th>\n",
       "      <td>6</td>\n",
       "      <td>2.574</td>\n",
       "      <td>1.604</td>\n",
       "      <td>0.623</td>\n",
       "    </tr>\n",
       "    <tr>\n",
       "      <th>7</th>\n",
       "      <td>7</td>\n",
       "      <td>2.475</td>\n",
       "      <td>1.573</td>\n",
       "      <td>0.636</td>\n",
       "    </tr>\n",
       "  </tbody>\n",
       "</table>\n",
       "</div>"
      ],
      "text/plain": [
       "   id  income  consumption  ratio\n",
       "1   1   1.998        1.413  0.707\n",
       "3   3   1.482        1.217  0.821\n",
       "4   4   1.236        1.112  0.900\n",
       "6   6   2.574        1.604  0.623\n",
       "7   7   2.475        1.573  0.636"
      ]
     },
     "execution_count": 8,
     "metadata": {},
     "output_type": "execute_result"
    }
   ],
   "source": [
    "# Create a (boolean) series of True/False values given the condition\n",
    "I = dt['income'] > 1\n",
    "\n",
    "# Display head of the pandas DataFrame where the condition holds\n",
    "dt.loc[I,:].head()"
   ]
  },
  {
   "cell_type": "markdown",
   "metadata": {},
   "source": [
    "**Question:**\n",
    "<br>\n",
    "Select everybody with an income *above* 1 and a ratio *above* 0.7."
   ]
  },
  {
   "cell_type": "markdown",
   "metadata": {},
   "source": [
    "**Answer:**\n",
    "<br>\n",
    "See below or A05\n"
   ]
  },
  {
   "cell_type": "code",
   "execution_count": 9,
   "metadata": {},
   "outputs": [
    {
     "data": {
      "text/html": [
       "<div>\n",
       "<style scoped>\n",
       "    .dataframe tbody tr th:only-of-type {\n",
       "        vertical-align: middle;\n",
       "    }\n",
       "\n",
       "    .dataframe tbody tr th {\n",
       "        vertical-align: top;\n",
       "    }\n",
       "\n",
       "    .dataframe thead th {\n",
       "        text-align: right;\n",
       "    }\n",
       "</style>\n",
       "<table border=\"1\" class=\"dataframe\">\n",
       "  <thead>\n",
       "    <tr style=\"text-align: right;\">\n",
       "      <th></th>\n",
       "      <th>id</th>\n",
       "      <th>income</th>\n",
       "      <th>consumption</th>\n",
       "      <th>ratio</th>\n",
       "    </tr>\n",
       "  </thead>\n",
       "  <tbody>\n",
       "    <tr>\n",
       "      <th>1</th>\n",
       "      <td>1</td>\n",
       "      <td>1.998</td>\n",
       "      <td>1.413</td>\n",
       "      <td>0.707</td>\n",
       "    </tr>\n",
       "    <tr>\n",
       "      <th>3</th>\n",
       "      <td>3</td>\n",
       "      <td>1.482</td>\n",
       "      <td>1.217</td>\n",
       "      <td>0.821</td>\n",
       "    </tr>\n",
       "    <tr>\n",
       "      <th>4</th>\n",
       "      <td>4</td>\n",
       "      <td>1.236</td>\n",
       "      <td>1.112</td>\n",
       "      <td>0.900</td>\n",
       "    </tr>\n",
       "    <tr>\n",
       "      <th>11</th>\n",
       "      <td>11</td>\n",
       "      <td>2.032</td>\n",
       "      <td>1.425</td>\n",
       "      <td>0.702</td>\n",
       "    </tr>\n",
       "    <tr>\n",
       "      <th>18</th>\n",
       "      <td>18</td>\n",
       "      <td>1.280</td>\n",
       "      <td>1.131</td>\n",
       "      <td>0.884</td>\n",
       "    </tr>\n",
       "  </tbody>\n",
       "</table>\n",
       "</div>"
      ],
      "text/plain": [
       "    id  income  consumption  ratio\n",
       "1    1   1.998        1.413  0.707\n",
       "3    3   1.482        1.217  0.821\n",
       "4    4   1.236        1.112  0.900\n",
       "11  11   2.032        1.425  0.702\n",
       "18  18   1.280        1.131  0.884"
      ]
     },
     "execution_count": 9,
     "metadata": {},
     "output_type": "execute_result"
    }
   ],
   "source": [
    "# Create a (boolean) series of True/False values given the condition\n",
    "IR = (dt['income'] > 1) & (dt['ratio'] > 0.7)\n",
    "\n",
    "# Display head of the pandas DataFrame where the condition holds\n",
    "dt.loc[IR,:].head()"
   ]
  },
  {
   "cell_type": "markdown",
   "metadata": {},
   "source": [
    "**Question:**\n",
    "<br>\n",
    "Set consumption equal to 0.5 if income is less than 0.5."
   ]
  },
  {
   "cell_type": "markdown",
   "metadata": {},
   "source": [
    "**Answer:**\n",
    "<br>\n",
    "See below or A06"
   ]
  },
  {
   "cell_type": "code",
   "execution_count": 10,
   "metadata": {},
   "outputs": [
    {
     "data": {
      "text/plain": [
       "1.075479712048503"
      ]
     },
     "execution_count": 10,
     "metadata": {},
     "output_type": "execute_result"
    }
   ],
   "source": [
    "# Create a (boolean) series of True/False values given the condition\n",
    "I = dt['income'] < 0.5\n",
    "\n",
    "# For all rows for which the condition holds true set consumption to 0.5\n",
    "dt.loc[I, ['consumption']] = 0.5\n",
    "\n",
    "# Find new mean of consumption\n",
    "dt['consumption'].mean() # <- compare with answer"
   ]
  },
  {
   "cell_type": "markdown",
   "metadata": {},
   "source": [
    "The mean consumption is less than before the change in consumption due to the condition"
   ]
  },
  {
   "cell_type": "markdown",
   "metadata": {},
   "source": [
    "**Question:**\n",
    "<br>\n",
    "Set consumption equal to income if income is less than 0.5."
   ]
  },
  {
   "cell_type": "markdown",
   "metadata": {},
   "source": [
    "**Answer:**\n",
    "<br>\n",
    "See below or A07"
   ]
  },
  {
   "cell_type": "code",
   "execution_count": 11,
   "metadata": {},
   "outputs": [
    {
     "data": {
      "text/plain": [
       "1.0337728690050054"
      ]
     },
     "execution_count": 11,
     "metadata": {},
     "output_type": "execute_result"
    }
   ],
   "source": [
    "# Create a (boolean) series of True/False values given the condition\n",
    "I = dt['income'] < 0.5\n",
    "\n",
    "# For all rows for which the condition holds true set consumption to income values\n",
    "dt.loc[I, ['consumption']] = dt.loc[I, ['income']].values\n",
    "\n",
    "# Find new mean of consumption\n",
    "dt['consumption'].mean() # <- compare with answer"
   ]
  },
  {
   "cell_type": "markdown",
   "metadata": {},
   "source": [
    "The mean consumption is less than before the change in consumption due to the condition"
   ]
  },
  {
   "cell_type": "markdown",
   "metadata": {},
   "source": [
    "## Dropping"
   ]
  },
  {
   "cell_type": "markdown",
   "metadata": {},
   "source": [
    "**Question:**\n",
    "<br>\n",
    "Drop the *ratio* variable and all rows with an income above 1.5. After this, also drop the first 5 rows."
   ]
  },
  {
   "cell_type": "markdown",
   "metadata": {},
   "source": [
    "**Answer:**\n",
    "<br>\n",
    "See below or A08"
   ]
  },
  {
   "cell_type": "markdown",
   "metadata": {},
   "source": [
    "To solve this I use the parameter `inplace = True` inside of the function `drop`, this parameter modifies the data directly or 'in place', eliminating the need to assign the modified data to a new variable"
   ]
  },
  {
   "cell_type": "code",
   "execution_count": 12,
   "metadata": {},
   "outputs": [
    {
     "name": "stdout",
     "output_type": "stream",
     "text": [
      "before: 100 observations, 4 variables\n",
      "after: 65 observations, 3 variables\n"
     ]
    }
   ],
   "source": [
    "print(f'before: {dt.shape[0]} observations, {dt.shape[1]} variables')\n",
    "\n",
    "# Drop the column ratio\n",
    "dt.drop(columns = ['ratio'], inplace = True)\n",
    "\n",
    "# Create a (boolean) series of True/False values given the condition\n",
    "I = dt['income'] > 1.5\n",
    "\n",
    "# Drop rows for which the condition is true\n",
    "dt.drop(dt.loc[I, :].index, inplace = True)\n",
    "\n",
    "# Drop the first 5 rows\n",
    "dt.drop(dt.loc[0:5, :].index, inplace = True)\n",
    "\n",
    "print(f'after: {dt.shape[0]} observations, {dt.shape[1]} variables')"
   ]
  },
  {
   "cell_type": "markdown",
   "metadata": {},
   "source": [
    "## Renaming"
   ]
  },
  {
   "cell_type": "markdown",
   "metadata": {},
   "source": [
    "**Question:**\n",
    "<br>\n",
    "Rename *consumption* to *cons* and *income* to *inc*."
   ]
  },
  {
   "cell_type": "markdown",
   "metadata": {},
   "source": [
    "**Answer:**\n",
    "<br>\n",
    "See below or A09"
   ]
  },
  {
   "cell_type": "code",
   "execution_count": 13,
   "metadata": {},
   "outputs": [
    {
     "data": {
      "text/html": [
       "<div>\n",
       "<style scoped>\n",
       "    .dataframe tbody tr th:only-of-type {\n",
       "        vertical-align: middle;\n",
       "    }\n",
       "\n",
       "    .dataframe tbody tr th {\n",
       "        vertical-align: top;\n",
       "    }\n",
       "\n",
       "    .dataframe thead th {\n",
       "        text-align: right;\n",
       "    }\n",
       "</style>\n",
       "<table border=\"1\" class=\"dataframe\">\n",
       "  <thead>\n",
       "    <tr style=\"text-align: right;\">\n",
       "      <th></th>\n",
       "      <th>id</th>\n",
       "      <th>inc</th>\n",
       "      <th>cons</th>\n",
       "    </tr>\n",
       "  </thead>\n",
       "  <tbody>\n",
       "    <tr>\n",
       "      <th>8</th>\n",
       "      <td>8</td>\n",
       "      <td>0.582</td>\n",
       "      <td>0.763</td>\n",
       "    </tr>\n",
       "    <tr>\n",
       "      <th>10</th>\n",
       "      <td>10</td>\n",
       "      <td>0.932</td>\n",
       "      <td>0.965</td>\n",
       "    </tr>\n",
       "    <tr>\n",
       "      <th>12</th>\n",
       "      <td>12</td>\n",
       "      <td>0.357</td>\n",
       "      <td>0.357</td>\n",
       "    </tr>\n",
       "    <tr>\n",
       "      <th>13</th>\n",
       "      <td>13</td>\n",
       "      <td>0.380</td>\n",
       "      <td>0.380</td>\n",
       "    </tr>\n",
       "    <tr>\n",
       "      <th>16</th>\n",
       "      <td>16</td>\n",
       "      <td>0.701</td>\n",
       "      <td>0.837</td>\n",
       "    </tr>\n",
       "  </tbody>\n",
       "</table>\n",
       "</div>"
      ],
      "text/plain": [
       "    id   inc  cons\n",
       "8    8 0.582 0.763\n",
       "10  10 0.932 0.965\n",
       "12  12 0.357 0.357\n",
       "13  13 0.380 0.380\n",
       "16  16 0.701 0.837"
      ]
     },
     "execution_count": 13,
     "metadata": {},
     "output_type": "execute_result"
    }
   ],
   "source": [
    "# Rename the columns\n",
    "dt.rename(columns = {'consumption': 'cons', 'income': 'inc'}, inplace = True)\n",
    "\n",
    "# Display the head of the DataFrame\n",
    "dt.head()"
   ]
  },
  {
   "cell_type": "markdown",
   "metadata": {},
   "source": [
    "## Functions"
   ]
  },
  {
   "cell_type": "markdown",
   "metadata": {},
   "source": [
    "**Question:**\n",
    "<br>\n",
    "Correct the wrong lines such that `assets_1 = assets_2 = assets_3 = assets_4`."
   ]
  },
  {
   "cell_type": "markdown",
   "metadata": {},
   "source": [
    "**Answer:**\n",
    "<br>\n",
    "See below or A10"
   ]
  },
  {
   "cell_type": "code",
   "execution_count": 14,
   "metadata": {},
   "outputs": [
    {
     "data": {
      "text/html": [
       "<div>\n",
       "<style scoped>\n",
       "    .dataframe tbody tr th:only-of-type {\n",
       "        vertical-align: middle;\n",
       "    }\n",
       "\n",
       "    .dataframe tbody tr th {\n",
       "        vertical-align: top;\n",
       "    }\n",
       "\n",
       "    .dataframe thead th {\n",
       "        text-align: right;\n",
       "    }\n",
       "</style>\n",
       "<table border=\"1\" class=\"dataframe\">\n",
       "  <thead>\n",
       "    <tr style=\"text-align: right;\">\n",
       "      <th></th>\n",
       "      <th>id</th>\n",
       "      <th>inc</th>\n",
       "      <th>cons</th>\n",
       "      <th>assets_1</th>\n",
       "      <th>assets_2</th>\n",
       "      <th>assets_3</th>\n",
       "      <th>assets_4</th>\n",
       "    </tr>\n",
       "  </thead>\n",
       "  <tbody>\n",
       "    <tr>\n",
       "      <th>8</th>\n",
       "      <td>8</td>\n",
       "      <td>0.582</td>\n",
       "      <td>0.763</td>\n",
       "      <td>0.783</td>\n",
       "      <td>0.783</td>\n",
       "      <td>0.783</td>\n",
       "      <td>0.783</td>\n",
       "    </tr>\n",
       "    <tr>\n",
       "      <th>10</th>\n",
       "      <td>10</td>\n",
       "      <td>0.932</td>\n",
       "      <td>0.965</td>\n",
       "      <td>0.960</td>\n",
       "      <td>0.960</td>\n",
       "      <td>0.960</td>\n",
       "      <td>0.960</td>\n",
       "    </tr>\n",
       "    <tr>\n",
       "      <th>12</th>\n",
       "      <td>12</td>\n",
       "      <td>0.357</td>\n",
       "      <td>0.357</td>\n",
       "      <td>1.000</td>\n",
       "      <td>1.000</td>\n",
       "      <td>1.000</td>\n",
       "      <td>1.000</td>\n",
       "    </tr>\n",
       "    <tr>\n",
       "      <th>13</th>\n",
       "      <td>13</td>\n",
       "      <td>0.380</td>\n",
       "      <td>0.380</td>\n",
       "      <td>1.000</td>\n",
       "      <td>1.000</td>\n",
       "      <td>1.000</td>\n",
       "      <td>1.000</td>\n",
       "    </tr>\n",
       "    <tr>\n",
       "      <th>16</th>\n",
       "      <td>16</td>\n",
       "      <td>0.701</td>\n",
       "      <td>0.837</td>\n",
       "      <td>0.836</td>\n",
       "      <td>0.836</td>\n",
       "      <td>0.836</td>\n",
       "      <td>0.836</td>\n",
       "    </tr>\n",
       "  </tbody>\n",
       "</table>\n",
       "</div>"
      ],
      "text/plain": [
       "    id   inc  cons  assets_1  assets_2  assets_3  assets_4\n",
       "8    8 0.582 0.763     0.783     0.783     0.783     0.783\n",
       "10  10 0.932 0.965     0.960     0.960     0.960     0.960\n",
       "12  12 0.357 0.357     1.000     1.000     1.000     1.000\n",
       "13  13 0.380 0.380     1.000     1.000     1.000     1.000\n",
       "16  16 0.701 0.837     0.836     0.836     0.836     0.836"
      ]
     },
     "execution_count": 14,
     "metadata": {},
     "output_type": "execute_result"
    }
   ],
   "source": [
    "# Define variables for the return rate and income\n",
    "R = 1.2\n",
    "Y = 1\n",
    "\n",
    "# Calculate asset row by row\n",
    "def assets_row_by_row(x,R,Y):\n",
    "    return R * (x['inc'] - x['cons']) + Y\n",
    "\n",
    "# Calculate asset for all rows at once \n",
    "def assets_all_at_once(income,consumption,R,Y):\n",
    "    return R * (income - consumption) + Y\n",
    "\n",
    "# Adjust asset in place \n",
    "def assets_adj(assets,R,Y):\n",
    "    assets *= R\n",
    "    assets += Y\n",
    "\n",
    "# Test if asset_1 = ... = asset_4\n",
    "try:\n",
    "    dt['assets_1'] = R*(dt['inc']-dt['cons'])+Y\n",
    "    dt['assets_2'] = dt.apply(assets_row_by_row, axis=1, args=(R,Y))\n",
    "    dt['assets_3'] = assets_all_at_once(dt['inc'].values,dt['cons'].values,R,Y)\n",
    "    dt['assets_4'] = dt['inc'] - dt['cons']\n",
    "    assets_adj(dt['assets_4'], R, Y)\n",
    "except:\n",
    "    print('failed')\n",
    "\n",
    "# Display the head of the DataFrame\n",
    "dt.head()"
   ]
  },
  {
   "cell_type": "markdown",
   "metadata": {},
   "source": [
    "**Answer:** see A10.py"
   ]
  },
  {
   "cell_type": "markdown",
   "metadata": {},
   "source": [
    "# Problem"
   ]
  },
  {
   "cell_type": "markdown",
   "metadata": {},
   "source": [
    "**Question:**\n",
    "<br>\n",
    "Load the data set in *data/NAH1_pivoted.xlsx* and clean and structure it such that the `plot_timeseries(dataframe)` below can be run and produce an interactive figure. "
   ]
  },
  {
   "cell_type": "code",
   "execution_count": 15,
   "metadata": {},
   "outputs": [],
   "source": [
    "def _plot_timeseries(dataframe, variable, years):\n",
    "    \n",
    "    fig = plt.figure(dpi=100)\n",
    "    ax = fig.add_subplot(1,1,1)\n",
    "    \n",
    "    dataframe.loc[:,['year']] = pd.to_numeric(dataframe['year'])\n",
    "    I = (dataframe['year'] >= years[0]) & (dataframe['year'] <= years[1])\n",
    "    \n",
    "    x = dataframe.loc[I,'year']\n",
    "    y = dataframe.loc[I,variable]\n",
    "    ax.plot(x,y)\n",
    "    \n",
    "    ax.set_xticks(list(range(years[0], years[1] + 1, 5)))    \n",
    "    \n",
    "def plot_timeseries(dataframe):\n",
    "    \n",
    "    widgets.interact(_plot_timeseries, \n",
    "    dataframe = widgets.fixed(dataframe),\n",
    "    variable = widgets.Dropdown(\n",
    "        description='variable', \n",
    "        options=['Y','C','G','I','X','M'], \n",
    "        value='Y'),\n",
    "    years=widgets.IntRangeSlider(\n",
    "        description=\"years\",\n",
    "        min=1966,\n",
    "        max=2018,\n",
    "        value=[1980, 2018],\n",
    "        continuous_update=False,\n",
    "    )                 \n",
    "); "
   ]
  },
  {
   "cell_type": "code",
   "execution_count": 16,
   "metadata": {},
   "outputs": [],
   "source": [
    "rename_dict = {}\n",
    "rename_dict['P.1 Output'] = 'Y'\n",
    "rename_dict['P.3 Final consumption expenditure'] = 'C'\n",
    "rename_dict['P.3 Government consumption expenditure'] = 'G'\n",
    "rename_dict['P.5 Gross capital formation'] = 'I'\n",
    "rename_dict['P.6 Export of goods and services'] = 'X'\n",
    "rename_dict['P.7 Import of goods and services'] = 'M'"
   ]
  },
  {
   "cell_type": "markdown",
   "metadata": {},
   "source": [
    "**Answer:**\n",
    "<br>\n",
    "See below or A10"
   ]
  },
  {
   "cell_type": "code",
   "execution_count": 17,
   "metadata": {},
   "outputs": [
    {
     "data": {
      "application/vnd.jupyter.widget-view+json": {
       "model_id": "5d9db547dea04c86a05f0441f8f3e85c",
       "version_major": 2,
       "version_minor": 0
      },
      "text/plain": [
       "interactive(children=(Dropdown(description='variable', options=('Y', 'C', 'G', 'I', 'X', 'M'), value='Y'), Int…"
      ]
     },
     "metadata": {},
     "output_type": "display_data"
    }
   ],
   "source": [
    "# Create path as a variable\n",
    "path_nah1 = 'NAH1_pivoted.xlsx'\n",
    "\n",
    "# Load data set and skip to two first rows\n",
    "nah1 = pd.read_excel(path_nah1, skiprows = 2)\n",
    "\n",
    "# Add 'Unnamed: 0' and 'Unnamed: 1' to rename_dict\n",
    "rename_dict['Unnamed: 0'] = 'year'\n",
    "rename_dict['Unnamed: 1'] = 'price type'\n",
    "\n",
    "# Use rename_dict to rename nah1 columns\n",
    "nah1.rename(columns = rename_dict, inplace = True)\n",
    "\n",
    "# Remove columns where Y is nan\n",
    "nah1.dropna(subset=['Y'], inplace=True)\n",
    "\n",
    "# Correct year data\n",
    "I = nah1['year'].notna()\n",
    "J = nah1['year'].isna()\n",
    "\n",
    "nah1.loc[J,['year']] = nah1.loc[I,['year']].values\n",
    "\n",
    "# Keep rows with '2010-prices, chained values'\n",
    "I = nah1['price type'] == '2010-prices, chained values'\n",
    "\n",
    "nah1 = nah1.loc[I,:]\n",
    "\n",
    "# Only keep renamed variables\n",
    "nah1 = nah1.loc[:,['year','Y','C','G','I','X','M']]\n",
    "\n",
    "# Plot the interactive plot\n",
    "plot_timeseries(nah1)\n"
   ]
  }
 ],
 "metadata": {
  "kernelspec": {
   "display_name": "Python 3 (ipykernel)",
   "language": "python",
   "name": "python3"
  },
  "language_info": {
   "codemirror_mode": {
    "name": "ipython",
    "version": 3
   },
   "file_extension": ".py",
   "mimetype": "text/x-python",
   "name": "python",
   "nbconvert_exporter": "python",
   "pygments_lexer": "ipython3",
   "version": "3.12.2"
  },
  "toc-autonumbering": true
 },
 "nbformat": 4,
 "nbformat_minor": 4
}
