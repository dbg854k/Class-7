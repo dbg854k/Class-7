{
 "cells": [
  {
   "cell_type": "markdown",
   "id": "1c2e4b45",
   "metadata": {},
   "source": [
    "Try using Co-Pilot to write your code for you"
   ]
  },
  {
   "cell_type": "code",
   "execution_count": 6,
   "id": "92102e85",
   "metadata": {},
   "outputs": [],
   "source": [
    "# import numpy as np\n",
    "import numpy as np # for numerical operations\n",
    "\n",
    "import pandas as pd # for data manipulation"
   ]
  },
  {
   "cell_type": "code",
   "execution_count": 7,
   "id": "1697ae6c",
   "metadata": {},
   "outputs": [
    {
     "name": "stdout",
     "output_type": "stream",
     "text": [
      "[ 1  2  3  4  5  6  7  8  9 10]\n"
     ]
    },
    {
     "data": {
      "application/vnd.microsoft.datawrangler.viewer.v0+json": {
       "columns": [
        {
         "name": "index",
         "rawType": "int64",
         "type": "integer"
        },
        {
         "name": "0",
         "rawType": "float64",
         "type": "float"
        }
       ],
       "ref": "2082898c-2ac7-4817-8cc5-0e4bc97ab6c4",
       "rows": [
        [
         "0",
         "0.38108783678156344"
        ],
        [
         "1",
         "0.6186511934683219"
        ],
        [
         "2",
         "1.1787529952609876"
        ],
        [
         "3",
         "0.7206740308225763"
        ],
        [
         "4",
         "-2.263423042619753"
        ],
        [
         "5",
         "0.23632314712098998"
        ],
        [
         "6",
         "-0.8657521136138818"
        ],
        [
         "7",
         "1.642075732668243"
        ],
        [
         "8",
         "-0.06999085097344995"
        ],
        [
         "9",
         "1.2203806513285218"
        ]
       ],
       "shape": {
        "columns": 1,
        "rows": 10
       }
      },
      "text/plain": [
       "0    0.381088\n",
       "1    0.618651\n",
       "2    1.178753\n",
       "3    0.720674\n",
       "4   -2.263423\n",
       "5    0.236323\n",
       "6   -0.865752\n",
       "7    1.642076\n",
       "8   -0.069991\n",
       "9    1.220381\n",
       "dtype: float64"
      ]
     },
     "execution_count": 7,
     "metadata": {},
     "output_type": "execute_result"
    }
   ],
   "source": [
    "# Count to ten using numpy\n",
    "np.arange(1, 11)\n",
    "\n",
    "# print the result\n",
    "print(np.arange(1, 11))\n",
    "\n",
    "# create a pandas array with random numbers\n",
    "pd.Series(np.random.randn(10))"
   ]
  },
  {
   "cell_type": "code",
   "execution_count": 8,
   "id": "51cf8ab2",
   "metadata": {},
   "outputs": [
    {
     "name": "stdout",
     "output_type": "stream",
     "text": [
      "a\n",
      "b\n",
      "c\n",
      "d\n",
      "e\n",
      "f\n",
      "g\n",
      "h\n",
      "i\n",
      "j\n",
      "k\n",
      "l\n",
      "m\n",
      "n\n",
      "o\n",
      "p\n",
      "q\n",
      "r\n",
      "s\n",
      "t\n",
      "u\n",
      "v\n",
      "w\n",
      "x\n",
      "y\n",
      "z\n"
     ]
    }
   ],
   "source": [
    "# I want to print all letters in the alphabet\n",
    "import string\n",
    "alphabet = string.ascii_lowercase\n",
    "for letter in alphabet:\n",
    "    print(letter)"
   ]
  },
  {
   "cell_type": "code",
   "execution_count": null,
   "id": "73e11c78",
   "metadata": {},
   "outputs": [],
   "source": []
  }
 ],
 "metadata": {
  "kernelspec": {
   "display_name": "tidy_finance_environment",
   "language": "python",
   "name": "python3"
  },
  "language_info": {
   "codemirror_mode": {
    "name": "ipython",
    "version": 3
   },
   "file_extension": ".py",
   "mimetype": "text/x-python",
   "name": "python",
   "nbconvert_exporter": "python",
   "pygments_lexer": "ipython3",
   "version": "3.10.11"
  }
 },
 "nbformat": 4,
 "nbformat_minor": 5
}
