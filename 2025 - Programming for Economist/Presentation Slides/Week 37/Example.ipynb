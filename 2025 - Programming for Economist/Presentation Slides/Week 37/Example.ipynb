{
 "cells": [
  {
   "cell_type": "markdown",
   "id": "1c2e4b45",
   "metadata": {},
   "source": [
    "Try using Co-Pilot to write your code for you"
   ]
  },
  {
   "cell_type": "code",
   "execution_count": 1,
   "id": "92102e85",
   "metadata": {},
   "outputs": [],
   "source": [
    "# I import my modules here\n",
    "import numpy as np"
   ]
  },
  {
   "cell_type": "code",
   "execution_count": 2,
   "id": "cf514f52",
   "metadata": {},
   "outputs": [
    {
     "name": "stdout",
     "output_type": "stream",
     "text": [
      "Mean: 0.567060845741438\n",
      "Standard Deviation: 0.0944529911111338\n"
     ]
    }
   ],
   "source": [
    "# I create a an array of random numbers with seed\n",
    "np.random.seed(0)\n",
    "ret = np.random.rand(5)\n",
    "\n",
    "# Find the mean of the array\n",
    "mean = ret.mean()\n",
    "\n",
    "# I find the standard deviation of the array\n",
    "std = ret.std()\n",
    "\n",
    "# I print the results\n",
    "print(\"Mean:\", mean)\n",
    "print(\"Standard Deviation:\", std)\n"
   ]
  }
 ],
 "metadata": {
  "kernelspec": {
   "display_name": "tidy_finance_environment",
   "language": "python",
   "name": "python3"
  },
  "language_info": {
   "codemirror_mode": {
    "name": "ipython",
    "version": 3
   },
   "file_extension": ".py",
   "mimetype": "text/x-python",
   "name": "python",
   "nbconvert_exporter": "python",
   "pygments_lexer": "ipython3",
   "version": "3.10.11"
  }
 },
 "nbformat": 4,
 "nbformat_minor": 5
}
