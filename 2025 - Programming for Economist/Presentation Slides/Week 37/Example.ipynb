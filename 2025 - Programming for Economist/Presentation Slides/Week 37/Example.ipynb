{
 "cells": [
  {
   "cell_type": "markdown",
   "id": "1c2e4b45",
   "metadata": {},
   "source": [
    "Try using Co-Pilot to write your code for you"
   ]
  },
  {
   "cell_type": "code",
   "execution_count": null,
   "id": "92102e85",
   "metadata": {},
   "outputs": [],
   "source": [
    "# import numpy as np\n",
    "import numpy as np"
   ]
  },
  {
   "cell_type": "code",
   "execution_count": 4,
   "id": "1697ae6c",
   "metadata": {},
   "outputs": [
    {
     "name": "stdout",
     "output_type": "stream",
     "text": [
      "1\n",
      "2\n",
      "3\n",
      "4\n",
      "5\n",
      "6\n",
      "7\n",
      "8\n",
      "9\n",
      "10\n"
     ]
    }
   ],
   "source": [
    "# use numpy to count to ten\n",
    "np.arange(1, 11)\n",
    "\n",
    "# print the numbers from the numpy array\n",
    "for i in np.arange(1, 11):\n",
    "    print(i)"
   ]
  }
 ],
 "metadata": {
  "kernelspec": {
   "display_name": "tidy_finance_environment",
   "language": "python",
   "name": "python3"
  },
  "language_info": {
   "codemirror_mode": {
    "name": "ipython",
    "version": 3
   },
   "file_extension": ".py",
   "mimetype": "text/x-python",
   "name": "python",
   "nbconvert_exporter": "python",
   "pygments_lexer": "ipython3",
   "version": "3.10.11"
  }
 },
 "nbformat": 4,
 "nbformat_minor": 5
}
