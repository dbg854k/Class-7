{
 "cells": [
  {
   "cell_type": "code",
   "execution_count": 5,
   "metadata": {},
   "outputs": [
    {
     "name": "stdout",
     "output_type": "stream",
     "text": [
      "Opel\n",
      "Kadett\n",
      "Vrooooooooom!\n",
      "My Opel Kadett says Vrooooooooom!\n",
      "None\n",
      "Ford\n",
      "Focus\n",
      "Honk Honk!\n",
      "My Ford Focus says Honk Honk!\n",
      "None\n",
      "{'Ford': 'Focus', 'Opel': 'Kadett'}\n"
     ]
    }
   ],
   "source": [
    "class Cars:\n",
    "    \"\"\"\n",
    "    A class to represent a car.\n",
    "    \n",
    "    Attributes:\n",
    "    - brand (str): The make of the car, e.g., 'Opel'.\n",
    "    - model (str): The car's model, e.g., 'Kadett'.\n",
    "    - sound (str): The sound the car makes, e.g., 'Vrooooooooom!'.\n",
    "    \n",
    "    Methods:\n",
    "    - car_sound(): Prints a message describing the sound of the car.\n",
    "    \"\"\"\n",
    "    \n",
    "    def __init__(self, brand, model, sound):\n",
    "        \"\"\"\n",
    "        Initializes a new Car object with specified brand, model, and sound.\n",
    "        \n",
    "        Parameters:\n",
    "        - brand (str): The make of the car.\n",
    "        - model (str): The model of the car.\n",
    "        - sound (str): The sound the car makes.\n",
    "        \"\"\"\n",
    "        self.brand = brand  # Initialize the brand attribute.\n",
    "        self.model = model  # Initialize the model attribute.\n",
    "        self.sound = sound  # Initialize the sound attribute.\n",
    "\n",
    "    def car_sound(self):\n",
    "        \"\"\"Prints a statement describing what the car sounds like.\"\"\"\n",
    "        print(f'My {self.brand} {self.model} says {self.sound}')\n",
    "\n",
    "# Create an instance for Jonas\n",
    "jonas_car = Cars('Opel', 'Kadett', 'Vrooooooooom!')\n",
    "\n",
    "# Show car details by accessing its attributes\n",
    "print(jonas_car.brand)  # Print the brand of Jonas's car\n",
    "print(jonas_car.model)  # Print the model of Jonas's car\n",
    "print(jonas_car.sound)  # Print what Jonas's car sounds like\n",
    "\n",
    "# Use a method to demonstrate the car's sound\n",
    "print(jonas_car.car_sound())\n",
    "\n",
    "# Create an instance for Lars   \n",
    "lars_car = Cars('Ford', 'Focus', 'Honk Honk!')\n",
    "\n",
    "# Show car details by accessing its attributes\n",
    "print(lars_car.brand)  # Print the brand of Lars's car\n",
    "print(lars_car.model)  # Print the model of Lars's car\n",
    "print(lars_car.sound)  # Print what Lars's car sounds like\n",
    "\n",
    "# Use a method to demonstrate the car's sound\n",
    "print(lars_car.car_sound())\n",
    "\n",
    "# Create a dictionary with car brands as keys and models as values\n",
    "car_dict = {lars_car.brand: lars_car.model, jonas_car.brand: jonas_car.model}\n",
    "print(car_dict)\n"
   ]
  }
 ],
 "metadata": {
  "kernelspec": {
   "display_name": "tidy_finance_environment",
   "language": "python",
   "name": "python3"
  },
  "language_info": {
   "codemirror_mode": {
    "name": "ipython",
    "version": 3
   },
   "file_extension": ".py",
   "mimetype": "text/x-python",
   "name": "python",
   "nbconvert_exporter": "python",
   "pygments_lexer": "ipython3",
   "version": "3.10.11"
  }
 },
 "nbformat": 4,
 "nbformat_minor": 2
}
