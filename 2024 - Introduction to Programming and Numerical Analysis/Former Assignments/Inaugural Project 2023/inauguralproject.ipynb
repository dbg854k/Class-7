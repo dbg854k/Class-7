{
 "cells": [
  {
   "attachments": {},
   "cell_type": "markdown",
   "metadata": {},
   "source": [
    "# Inaugural Project"
   ]
  },
  {
   "attachments": {},
   "cell_type": "markdown",
   "metadata": {},
   "source": [
    "Hi! Welcome to my Inaugural Project."
   ]
  },
  {
   "attachments": {},
   "cell_type": "markdown",
   "metadata": {},
   "source": [
    "Here I import modules and auto-reload them to make the code run smoothly. \n",
    "<br>\n",
    "I also import the model from the folder `inauguralproject`, which this code refers to."
   ]
  },
  {
   "cell_type": "code",
   "execution_count": 1,
   "metadata": {},
   "outputs": [],
   "source": [
    "# Import modules\n",
    "from types import SimpleNamespace\n",
    "import numpy as np\n",
    "from scipy import optimize\n",
    "import pandas as pd \n",
    "import matplotlib.pyplot as plt\n",
    "import warnings\n",
    "\n",
    "# Autoreload modules when code is run. Otherwise, python will not see recent changes. \n",
    "%load_ext autoreload\n",
    "%autoreload 2\n",
    "\n",
    "# Import the model\n",
    "from inauguralproject import HouseholdSpecializationModelClass"
   ]
  },
  {
   "attachments": {},
   "cell_type": "markdown",
   "metadata": {},
   "source": [
    "I use a general style for all my plots!"
   ]
  },
  {
   "cell_type": "code",
   "execution_count": 2,
   "metadata": {},
   "outputs": [],
   "source": [
    "# Predefine options for all plots\n",
    "plt.rcParams.update({\"axes.grid\":True,\"grid.color\":\"black\",\"grid.alpha\":\"0.25\",\"grid.linestyle\":\"-\"})\n",
    "plt.rcParams.update({'font.size': 12})"
   ]
  },
  {
   "attachments": {},
   "cell_type": "markdown",
   "metadata": {},
   "source": [
    "# Question 1"
   ]
  },
  {
   "attachments": {},
   "cell_type": "markdown",
   "metadata": {},
   "source": [
    "To solve Question 1, I call the model, create two vectors, one for the values of $\\alpha$ and one for the values of $\\sigma$, and create empty lists to append the results. <br> \n",
    "Next, I solve the model for varying $\\alpha$ and $\\sigma$ values using a nested `for loop`."
   ]
  },
  {
   "cell_type": "code",
   "execution_count": 3,
   "metadata": {},
   "outputs": [
    {
     "name": "stdout",
     "output_type": "stream",
     "text": [
      "HF/HM = 0.545 for alpha = 0.25, sigma = 0.5\n",
      "HF/HM = 0.308 for alpha = 0.25, sigma = 1.0\n",
      "HF/HM = 0.214 for alpha = 0.25, sigma = 1.5\n",
      "HF/HM = 1.000 for alpha = 0.5, sigma = 0.5\n",
      "HF/HM = 1.000 for alpha = 0.5, sigma = 1.0\n",
      "HF/HM = 1.000 for alpha = 0.5, sigma = 1.5\n",
      "HF/HM = 1.833 for alpha = 0.75, sigma = 0.5\n",
      "HF/HM = 3.250 for alpha = 0.75, sigma = 1.0\n",
      "HF/HM = 4.667 for alpha = 0.75, sigma = 1.5\n"
     ]
    }
   ],
   "source": [
    "# Call the model\n",
    "model = HouseholdSpecializationModelClass()\n",
    "\n",
    "# Create vectors of alpha and sigma values\n",
    "alpha_vec = [0.25, 0.50, 0.75]\n",
    "sigma_vec = [0.5, 1.0, 1.5]\n",
    "\n",
    "# Create a empty list for the result\n",
    "alpha_list = []\n",
    "sigma_list = []\n",
    "HF_HM_list = []\n",
    "\n",
    "# For each value of alpha in the alpha vector solve the model for HF_HM\n",
    "for alpha in alpha_vec:\n",
    "\n",
    "    # Set the models alpha paramter to alpha\n",
    "    model.par.alpha = alpha\n",
    "    \n",
    "    #Ignore the warning, which arises due to the reciprocal being in proximity to zero    \n",
    "    warnings.filterwarnings(action='ignore')\n",
    "\n",
    "    # For each value of sigma in the sigma vector solve the model for HF_HM\n",
    "    for sigma in sigma_vec:\n",
    "        \n",
    "        # set the models sigma parameter to sigma\n",
    "        model.par.sigma = sigma\n",
    "\n",
    "        # solve the model\n",
    "        opt = model.solve_discrete()\n",
    "\n",
    "        # For each value of HF and HM find HF/HM\n",
    "        HF_HM = opt.HF / opt.HM\n",
    "\n",
    "        # append the result to the lists\n",
    "        alpha_list.append(alpha)\n",
    "        sigma_list.append(sigma)\n",
    "        HF_HM_list.append(HF_HM)\n",
    "\n",
    "        # print results\n",
    "        print(f'HF/HM ={HF_HM: .3f} for alpha = {alpha}, sigma = {sigma}')"
   ]
  },
  {
   "attachments": {},
   "cell_type": "markdown",
   "metadata": {},
   "source": [
    "To present the results, I use `pd.DataFrame` to create a pivot table."
   ]
  },
  {
   "cell_type": "code",
   "execution_count": 4,
   "metadata": {},
   "outputs": [
    {
     "data": {
      "text/html": [
       "<div>\n",
       "<style scoped>\n",
       "    .dataframe tbody tr th:only-of-type {\n",
       "        vertical-align: middle;\n",
       "    }\n",
       "\n",
       "    .dataframe tbody tr th {\n",
       "        vertical-align: top;\n",
       "    }\n",
       "\n",
       "    .dataframe thead th {\n",
       "        text-align: right;\n",
       "    }\n",
       "</style>\n",
       "<table border=\"1\" class=\"dataframe\">\n",
       "  <thead>\n",
       "    <tr style=\"text-align: right;\">\n",
       "      <th>alpha</th>\n",
       "      <th>0.25</th>\n",
       "      <th>0.50</th>\n",
       "      <th>0.75</th>\n",
       "    </tr>\n",
       "    <tr>\n",
       "      <th>sigma</th>\n",
       "      <th></th>\n",
       "      <th></th>\n",
       "      <th></th>\n",
       "    </tr>\n",
       "  </thead>\n",
       "  <tbody>\n",
       "    <tr>\n",
       "      <th>0.5</th>\n",
       "      <td>0.545</td>\n",
       "      <td>1.0</td>\n",
       "      <td>1.833</td>\n",
       "    </tr>\n",
       "    <tr>\n",
       "      <th>1.0</th>\n",
       "      <td>0.308</td>\n",
       "      <td>1.0</td>\n",
       "      <td>3.250</td>\n",
       "    </tr>\n",
       "    <tr>\n",
       "      <th>1.5</th>\n",
       "      <td>0.214</td>\n",
       "      <td>1.0</td>\n",
       "      <td>4.667</td>\n",
       "    </tr>\n",
       "  </tbody>\n",
       "</table>\n",
       "</div>"
      ],
      "text/plain": [
       "alpha   0.25  0.50   0.75\n",
       "sigma                    \n",
       "0.5    0.545   1.0  1.833\n",
       "1.0    0.308   1.0  3.250\n",
       "1.5    0.214   1.0  4.667"
      ]
     },
     "metadata": {},
     "output_type": "display_data"
    }
   ],
   "source": [
    "# Create DataFrame \n",
    "df = pd.DataFrame({'alpha': alpha_list, 'sigma': sigma_list, 'HF/HM': HF_HM_list})\n",
    "\n",
    "# Convert the DataFrame into a pivot table\n",
    "table = pd.pivot_table(df, values='HF/HM', index='sigma', columns='alpha')\n",
    "\n",
    "# Round the numbers down to 3 decimals\n",
    "table = table.round(3)\n",
    "\n",
    "# display the pivot table\n",
    "display(table)"
   ]
  },
  {
   "attachments": {},
   "cell_type": "markdown",
   "metadata": {},
   "source": [
    "The table provides insights into how the parameters $\\alpha$ and $\\sigma$ impact women's household production relative to men's.\n",
    "\n",
    "$\\alpha$ represents women's relative household productivity compared to men's. As $\\alpha$ increases, women's household production also increases, assuming all other factors remain unchanged.\n",
    "\n",
    "The influence of $\\sigma$, the elasticity of substitution between men's and women's household production, is dependent on the value of $\\alpha$:\n",
    "\n",
    "- When $\\alpha<0.5$, an increase in $\\sigma$ leads to a decrease in women's household production.\n",
    "- When $\\alpha>0.5$, an increase in $\\sigma$ leads to an increase in women's household production.\n",
    "- When $\\alpha = 0.5$, the household productivity is equal for both genders, regardless of the $\\sigma$ value.\n",
    "\n",
    "In essence, men are more productive in the household than women when $\\alpha$ is low. Conversely, women are more productive when $\\alpha$ is high."
   ]
  },
  {
   "attachments": {},
   "cell_type": "markdown",
   "metadata": {},
   "source": [
    "# Question 2"
   ]
  },
  {
   "attachments": {},
   "cell_type": "markdown",
   "metadata": {},
   "source": [
    "To solve Question 2, I call the model for the discrete case and calculate $log(H_{F}/H_{M})$ and $log(w_{F}/w_{M})$ for varying values of $w_{F}$. <br>\n",
    "Next, I plot $log(H_F/H_M)$ against $log(w_F/w_M)$."
   ]
  },
  {
   "cell_type": "code",
   "execution_count": 5,
   "metadata": {},
   "outputs": [],
   "source": [
    "# Call the model\n",
    "model = HouseholdSpecializationModelClass()\n",
    "\n",
    "# Call model.solve_wF_vec() for the discrete case\n",
    "model.solve_wF_vec(discrete=True)\n",
    "\n",
    "# Calculate log(HF/HM) and log(wF/wM) for the discrete case\n",
    "dis_log_HF_HM = np.log(model.sol.HF_vec / model.sol.HM_vec)\n",
    "dis_log_wF_wM = np.log(model.par.wF_vec / model.par.wM)\n",
    "\n",
    "# Print the lists\n",
    "#print(f'Discrete case:\\nlog(HF/HM) = {dis_log_HF_HM}\\nlog(wF/wM) = {dis_log_wF_wM}')"
   ]
  },
  {
   "cell_type": "code",
   "execution_count": 6,
   "metadata": {},
   "outputs": [
    {
     "data": {
      "image/png": "[encoded data removed]",
      "text/plain": [
       "<Figure size 640x480 with 1 Axes>"
      ]
     },
     "metadata": {},
     "output_type": "display_data"
    }
   ],
   "source": [
    "# Create a figure\n",
    "fig = plt.figure()\n",
    "\n",
    "# Plot the x and y\n",
    "ax = fig.add_subplot(1,1,1)\n",
    "ax.plot(dis_log_wF_wM,dis_log_HF_HM)\n",
    "\n",
    "# Set title, x- and y-label. \n",
    "ax.set_title('Figure 1: $log(H_F/H_M)$ against $log(w_F/w_M)$ for variying $w_F$')\n",
    "ax.set_xlabel('$log(w_F/w_M)$')\n",
    "ax.set_ylabel('$log(H_F/H_M)$');"
   ]
  },
  {
   "attachments": {},
   "cell_type": "markdown",
   "metadata": {},
   "source": [
    "Based on the Figure 1, one can draw a normative economic conclusion that as women's earnings wages to men's increase, their engagement in household production decreases relative to men."
   ]
  },
  {
   "attachments": {},
   "cell_type": "markdown",
   "metadata": {},
   "source": [
    "# Question 3"
   ]
  },
  {
   "attachments": {},
   "cell_type": "markdown",
   "metadata": {},
   "source": [
    "I solve Question 3 similarly to Question 2, except that I call the model for the continuous case. <br>\n",
    "This modification should eliminate the kinks in figure 1, albeit dull, it should enhance the visual appeal."
   ]
  },
  {
   "cell_type": "code",
   "execution_count": 7,
   "metadata": {},
   "outputs": [],
   "source": [
    "# Call the model\n",
    "model = HouseholdSpecializationModelClass()\n",
    "\n",
    "# Call model.solve_wF_vec() for the continuous case\n",
    "model.solve_wF_vec(discrete=False)\n",
    "\n",
    "# Calculate log(HF/HM) and log(wF/wM) for the continuous case\n",
    "c_log_HF_HM = np.log(model.sol.HF_vec / model.sol.HM_vec)\n",
    "c_log_wF_wM = np.log(model.par.wF_vec / model.par.wM)\n",
    "\n",
    "# Print the lists\n",
    "#print(f'Continuous case:\\nlog(HF/HM) = {c_log_HF_HM}\\nlog(wF/wM) = {c_log_wF_wM}')\n"
   ]
  },
  {
   "cell_type": "code",
   "execution_count": 8,
   "metadata": {},
   "outputs": [
    {
     "data": {
      "image/png": "[encoded data removed]",
      "text/plain": [
       "<Figure size 640x480 with 1 Axes>"
      ]
     },
     "metadata": {},
     "output_type": "display_data"
    }
   ],
   "source": [
    "# Create a figure\n",
    "fig = plt.figure()\n",
    "\n",
    "# Plot x and y\n",
    "ax = fig.add_subplot(1,1,1)\n",
    "ax.plot(c_log_wF_wM,c_log_HF_HM)\n",
    "\n",
    "# Set title, x- and y-label\n",
    "ax.set_title('Figure 2: $log(H_F/H_M)$ against $log(w_F/w_M)$ for variying $w_F$')\n",
    "ax.set_xlabel('$log(w_F/w_M)$')\n",
    "ax.set_ylabel('$log(H_F/H_M)$');"
   ]
  },
  {
   "attachments": {},
   "cell_type": "markdown",
   "metadata": {},
   "source": [
    "I have eliminated the kinks!.. <br>\n",
    "From Figure 2, it is now evident that the relationship between women's wages and their engagement in household production is linear and decreasing."
   ]
  },
  {
   "attachments": {},
   "cell_type": "markdown",
   "metadata": {},
   "source": [
    "# Question 4"
   ]
  },
  {
   "attachments": {},
   "cell_type": "markdown",
   "metadata": {},
   "source": [
    "To solve Question 4, I call the model and estimate the values of $\\alpha$ and $\\sigma$, which minimizes $(\\beta_{0} - \\hat{\\beta}_{0})^2 + (\\beta_{1} - \\hat{\\beta}_{1})^2$."
   ]
  },
  {
   "cell_type": "code",
   "execution_count": 9,
   "metadata": {},
   "outputs": [
    {
     "name": "stdout",
     "output_type": "stream",
     "text": [
      "For alpha = 0.982 and sigma = 0.100 the squared errors are minimized such that:\n",
      "beta0 = 0.400\n",
      "beta1 = -0.100\n"
     ]
    }
   ],
   "source": [
    "# Call the model\n",
    "model = HouseholdSpecializationModelClass()\n",
    "\n",
    "# Estimate the values of alpha and sigma, which minimized the squared residuals\n",
    "model.estimate()\n",
    "\n",
    "# Print the solution\n",
    "print(f\"For alpha = {model.sol.alpha:.3f} and sigma = {model.sol.sigma:.3f} the squared errors are minimized such that:\\n\\\n",
    "beta0 = {model.sol.beta0:.3f}\\n\\\n",
    "beta1 = {model.sol.beta1:.3f}\")"
   ]
  },
  {
   "attachments": {},
   "cell_type": "markdown",
   "metadata": {},
   "source": [
    "In order to minimize the squared residuals, a high value of $\\alpha$ and a low value of $\\sigma$ are required. <br> \n",
    "This finding leads to a more economically positivistic conclusion: women's household productivity is significantly higher than men's, and the substitutability between working in the household and in the market is very low.\n",
    "\n",
    "This may also be infered from the high $\\beta_0\\approx0.4$ and the sign of $\\beta_1\\approx-0.1$"
   ]
  },
  {
   "attachments": {},
   "cell_type": "markdown",
   "metadata": {},
   "source": [
    "# Question 5"
   ]
  },
  {
   "attachments": {},
   "cell_type": "markdown",
   "metadata": {},
   "source": [
    "To solve Question 5, I propose an extension to the model to match the data when $\\alpha = 0.5$. <br>\n",
    "I extend the model such that men experience a larger disutility from household production than women:\n",
    "\n",
    "I first set a paramater $\\kappa = 1$ and define the utility function as: $U = \\frac{{Q^{1-\\rho}}}{{1-\\rho}} - \\nu \\left( \\frac{{(L_M + \\kappa H_M)^{1+\\frac{1}{\\epsilon}}}}{{1+\\frac{1}{\\epsilon}}} + \\frac{{(L_F + H_F)^{1+\\frac{1}{\\epsilon}}}}{{1+\\frac{1}{\\epsilon}}} \\right)$. <br>\n",
    "Next, I call the model and estimate the values of $\\sigma$ and $\\kappa$, which minimizes $(\\beta_{0} - \\hat{\\beta}_{0})^2 + (\\beta_{1} - \\hat{\\beta}_{1})^2$."
   ]
  },
  {
   "cell_type": "code",
   "execution_count": 10,
   "metadata": {},
   "outputs": [
    {
     "name": "stdout",
     "output_type": "stream",
     "text": [
      "For alpha = 0.500, sigma = 0.131 and kappa = 20.774 the squared errors are minimized such that:\n",
      "beta0 = 0.400\n",
      "beta1 = -0.100\n"
     ]
    }
   ],
   "source": [
    "model.estimate_sigma_kappa(alpha=0.5)\n",
    "\n",
    "print(f\"For alpha = {model.sol.alpha:.3f}, sigma = {model.sol.sigma:.3f} and kappa = {model.sol.kappa:.3f} the squared errors are minimized such that:\\n\\\n",
    "beta0 = {model.sol.beta0:.3f}\\n\\\n",
    "beta1 = {model.sol.beta1:.3f}\")"
   ]
  },
  {
   "attachments": {},
   "cell_type": "markdown",
   "metadata": {},
   "source": [
    "Given that men and women are equally productive in the household, it requires men to experience about 21 more times disutility from engaging in household production than women to match the data. That is quite disturbing!"
   ]
  }
 ],
 "metadata": {
  "kernelspec": {
   "display_name": "base",
   "language": "python",
   "name": "python3"
  },
  "language_info": {
   "codemirror_mode": {
    "name": "ipython",
    "version": 3
   },
   "file_extension": ".py",
   "mimetype": "text/x-python",
   "name": "python",
   "nbconvert_exporter": "python",
   "pygments_lexer": "ipython3",
   "version": "3.9.16"
  },
  "toc-autonumbering": true,
  "vscode": {
   "interpreter": {
    "hash": "47ef90cdf3004d3f859f1fb202523c65c07ba7c22eefd261b181f4744e2d0403"
   }
  }
 },
 "nbformat": 4,
 "nbformat_minor": 4
}
