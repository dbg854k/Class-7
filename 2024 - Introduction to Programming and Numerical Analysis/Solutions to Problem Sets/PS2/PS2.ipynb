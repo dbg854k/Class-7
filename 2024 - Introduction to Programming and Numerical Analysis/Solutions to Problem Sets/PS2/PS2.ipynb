{
 "cells": [
  {
   "cell_type": "markdown",
   "metadata": {},
   "source": [
    "# Problem set 2: Finding the Walras equilibrium in a multi-agent economy"
   ]
  },
  {
   "cell_type": "code",
   "execution_count": 2,
   "metadata": {},
   "outputs": [],
   "source": [
    "%load_ext autoreload\n",
    "%autoreload 2"
   ]
  },
  {
   "cell_type": "markdown",
   "metadata": {},
   "source": [
    "# Tasks"
   ]
  },
  {
   "cell_type": "markdown",
   "metadata": {},
   "source": [
    "## Drawing random numbers"
   ]
  },
  {
   "cell_type": "markdown",
   "metadata": {},
   "source": [
    "**Question:** \n",
    "<br>\n",
    "Replace the missing lines in the code below to get the same output as in the answer."
   ]
  },
  {
   "cell_type": "markdown",
   "metadata": {},
   "source": [
    "**Output:**"
   ]
  },
  {
   "cell_type": "code",
   "execution_count": 3,
   "metadata": {},
   "outputs": [
    {
     "name": "stdout",
     "output_type": "stream",
     "text": [
      " (0,0): x = 0.569 \n",
      " (0,1): x = 0.077 \n",
      " (1,0): x = 0.569 \n",
      " (1,1): x = 0.077 \n",
      " (2,0): x = 0.569 \n",
      " (2,1): x = 0.077 \n"
     ]
    }
   ],
   "source": [
    "print(' (0,0): x = 0.569 \\n\\\n",
    " (0,1): x = 0.077 \\n\\\n",
    " (1,0): x = 0.569 \\n\\\n",
    " (1,1): x = 0.077 \\n\\\n",
    " (2,0): x = 0.569 \\n\\\n",
    " (2,1): x = 0.077 ')"
   ]
  },
  {
   "cell_type": "markdown",
   "metadata": {},
   "source": [
    "**Answer:**"
   ]
  },
  {
   "cell_type": "code",
   "execution_count": 4,
   "metadata": {},
   "outputs": [
    {
     "name": "stdout",
     "output_type": "stream",
     "text": [
      "(0, 0): x = 0.569\n",
      "(0, 1): x = 0.077\n",
      "(1, 0): x = 0.569\n",
      "(1, 1): x = 0.077\n",
      "(2, 0): x = 0.569\n",
      "(2, 1): x = 0.077\n"
     ]
    }
   ],
   "source": [
    "# Import the NumPy library for numerical operations\n",
    "import numpy as np\n",
    "\n",
    "# Initialize the random number generator with a specific seed for reproducibility\n",
    "np.random.seed(1986)\n",
    "\n",
    "# Save the current state of the random number generator to reset it later\n",
    "state = np.random.get_state()\n",
    "\n",
    "# Loop through three iterations (i ranges from 0 to 2)\n",
    "for i in range(3):\n",
    "\n",
    "    # Restore the random number generator state at the beginning of each 'i' iteration\n",
    "    np.random.set_state(state)\n",
    "\n",
    "    # Nested loop for two iterations (j ranges from 0 to 1)\n",
    "    for j in range(2):\n",
    "\n",
    "        # Generate and print a random number from a uniform distribution between 0 and 1\n",
    "        x = np.random.uniform()\n",
    "        \n",
    "        print(f'{i, j}: x = {x:.3f}')\n"
   ]
  },
  {
   "cell_type": "markdown",
   "metadata": {},
   "source": [
    "## Find the expectated value"
   ]
  },
  {
   "cell_type": "markdown",
   "metadata": {},
   "source": [
    "**Question:**"
   ]
  },
  {
   "cell_type": "markdown",
   "metadata": {},
   "source": [
    "Find the expected value and the expected variance\n",
    "\n",
    "$$ \n",
    "\\mathbb{E}[g(x)] \\approx \\frac{1}{N}\\sum_{i=1}^{N} g(x_i)\n",
    "$$\n",
    "$$ \n",
    "\\mathbb{VAR}[g(x)] \\approx \\frac{1}{N}\\sum_{i=1}^{N} \\left( g(x_i) - \\frac{1}{N}\\sum_{i=1}^{N} g(x_i) \\right)^2\n",
    "$$\n",
    "\n",
    "where $ x_i \\sim \\mathcal{N}(0,\\sigma) $ and\n",
    "\n",
    "$$ \n",
    "g(x,\\omega)=\\begin{cases}\n",
    "x & \\text{if }x\\in[-\\omega,\\omega]\\\\\n",
    "-\\omega & \\text{if }x<-\\omega\\\\\n",
    "\\omega & \\text{if }x>\\omega\n",
    "\\end{cases} \n",
    "$$"
   ]
  },
  {
   "cell_type": "markdown",
   "metadata": {},
   "source": [
    "**Answer:**"
   ]
  },
  {
   "cell_type": "code",
   "execution_count": 5,
   "metadata": {},
   "outputs": [
    {
     "name": "stdout",
     "output_type": "stream",
     "text": [
      "The mean of g(x, w) is -0.00264 and the variance is 2.69804\n"
     ]
    }
   ],
   "source": [
    "# Import the numpy library for numerical operations\n",
    "import numpy as np\n",
    "\n",
    "# Set parameters\n",
    "sigma = 3.14\n",
    "omega = 2\n",
    "N = 10000\n",
    "\n",
    "# Set seed for reproducibility\n",
    "np.random.seed(1986)\n",
    "\n",
    "# Create an np.array of values for a random variable which follows a normal distribution\n",
    "x = np.random.normal(loc = 0, scale = sigma, size = N)\n",
    "\n",
    "# Create a function to limit the values in the np.array `x` to be within the range `[-omega, omega]`\n",
    "def g(x, w):\n",
    "\n",
    "    # Create a copy of the array of x values\n",
    "    y = x.copy()\n",
    "\n",
    "    # If any element in `y` is less than `-omega`, change that element to `-omega`\n",
    "    y[x < -omega] = -omega\n",
    "    \n",
    "    # If any element in `y` is more than `omega`, change that element to `omega`\n",
    "    y[x > omega] = omega\n",
    "\n",
    "    # Return the modified array\n",
    "    return y\n",
    "\n",
    "# Calculate and print the mean and variance of the modified values\n",
    "mean = np.mean(g(x = x, w = omega))\n",
    "var = np.var(g(x = x, w = omega))\n",
    "\n",
    "print(f'The mean of g(x, w) is {mean:.5f} and the variance is {var:.5f}')\n"
   ]
  },
  {
   "cell_type": "markdown",
   "metadata": {},
   "source": [
    "## Interactive histogram"
   ]
  },
  {
   "cell_type": "markdown",
   "metadata": {},
   "source": [
    "**First task:** Consider the code below. Fill in the missing lines so the figure is plotted."
   ]
  },
  {
   "cell_type": "markdown",
   "metadata": {},
   "source": [
    "**Answer:**"
   ]
  },
  {
   "cell_type": "code",
   "execution_count": 6,
   "metadata": {},
   "outputs": [],
   "source": [
    "# Import necessary libraries\n",
    "import numpy as np\n",
    "import matplotlib.pyplot as plt\n",
    "%matplotlib inline\n",
    "import ipywidgets as widgets\n",
    "\n",
    "from scipy.stats import norm\n",
    "\n",
    "# Define a function for plotting and fitting a normal distribution to a dataset\n",
    "def fitting_normal(X, mu_guess, sigma_guess):\n",
    "    # Create a variable which follows the normal distribution\n",
    "    F = norm(loc = mu_guess, scale = sigma_guess)\n",
    "\n",
    "    # Find lower and upper values of x given the cumulative density function (CDF)\n",
    "    x_low = F.ppf(0.001)\n",
    "    x_high = F.ppf(0.999)\n",
    "\n",
    "    # Create an np.array of equi-distant x-values for the normal distribution\n",
    "    x = np.linspace(x_low, x_high, 100)\n",
    "\n",
    "    # Create figure\n",
    "    fig = plt.figure()\n",
    "\n",
    "    # Add subplot with 1 row, 1 column and 1 index\n",
    "    ax = fig.add_subplot(1, 1, 1)\n",
    "\n",
    "    # Add values of x and y to the plot\n",
    "    ax.plot(x, F.pdf(x))\n",
    "\n",
    "    # Create a histogram given X \n",
    "    ax.hist(X, bins=100, density = True, histtype = 'stepfilled')\n",
    "\n",
    "    # Set limits for x and y\n",
    "    ax.set_xlim([-6, 6])\n",
    "    ax.set_ylim([0, 0.5]);"
   ]
  },
  {
   "cell_type": "code",
   "execution_count": 7,
   "metadata": {},
   "outputs": [
    {
     "data": {
      "image/png": "[encoded data removed]",
      "text/plain": [
       "<Figure size 640x480 with 1 Axes>"
      ]
     },
     "metadata": {},
     "output_type": "display_data"
    }
   ],
   "source": [
    "# Set parameters\n",
    "mu_true = 2\n",
    "sigma_true = 1\n",
    "\n",
    "mu_guess = 1\n",
    "sigma_guess = 2\n",
    "\n",
    "# Create a np.array of X values for the histogram\n",
    "X = np.random.normal(loc = mu_true, scale = sigma_true, size = 10**6)\n",
    "\n",
    "# Call function\n",
    "fitting_normal(X, mu_guess, sigma_guess)"
   ]
  },
  {
   "cell_type": "markdown",
   "metadata": {},
   "source": [
    "**Second task:** Create an interactive version of the figure with sliders for $\\mu$ and $\\sigma$."
   ]
  },
  {
   "cell_type": "markdown",
   "metadata": {},
   "source": [
    "**Answer:**"
   ]
  },
  {
   "cell_type": "code",
   "execution_count": 8,
   "metadata": {},
   "outputs": [
    {
     "data": {
      "application/vnd.jupyter.widget-view+json": {
       "model_id": "c35aac7d7f4f4e318dab91ae85754e50",
       "version_major": 2,
       "version_minor": 0
      },
      "text/plain": [
       "interactive(children=(FloatSlider(value=1.0, description='$\\\\mu$', max=5.0, min=0.1, step=0.05), FloatSlider(v…"
      ]
     },
     "metadata": {},
     "output_type": "display_data"
    }
   ],
   "source": [
    "# Create an interactive slider\n",
    "widgets.interact(fitting_normal, \n",
    "                 X = widgets.fixed(X),\n",
    "                 mu_guess=widgets.FloatSlider(\n",
    "                     description = \"$\\mu$\", min = 0.1, max = 5, step= 0.05, value = 1),\n",
    "                 sigma_guess = widgets.FloatSlider(\n",
    "                     description = \"$\\sigma$\", min = 0.1, max = 5, step = 0.05, value=1));"
   ]
  },
  {
   "cell_type": "markdown",
   "metadata": {},
   "source": [
    "## Modules"
   ]
  },
  {
   "cell_type": "markdown",
   "metadata": {},
   "source": [
    "**Question:**"
   ]
  },
  {
   "cell_type": "markdown",
   "metadata": {},
   "source": [
    "1. Call the function `myfun` from the module `mymodule` present in this folder.\n",
    "2. Open VSCode and open the `mymodule.py`, add a new function and call it from this notebook."
   ]
  },
  {
   "cell_type": "markdown",
   "metadata": {},
   "source": [
    "**Answer:**"
   ]
  },
  {
   "cell_type": "code",
   "execution_count": 9,
   "metadata": {},
   "outputs": [
    {
     "data": {
      "text/plain": [
       "25"
      ]
     },
     "execution_count": 9,
     "metadata": {},
     "output_type": "execute_result"
    }
   ],
   "source": [
    "# Import the function myfun from mymodule\n",
    "from mymodule import myfun\n",
    "\n",
    "# Call myfun with a given value\n",
    "myfun(5)"
   ]
  },
  {
   "cell_type": "markdown",
   "metadata": {},
   "source": [
    "## Git"
   ]
  },
  {
   "cell_type": "markdown",
   "metadata": {},
   "source": [
    "1. Try to go to your own personal GitHub main page and create a new repository. Then put your solution to this problem set in it.\n",
    "2. Pair up with a fellow student. Clone each others repositories and run the code in them."
   ]
  },
  {
   "cell_type": "markdown",
   "metadata": {},
   "source": [
    "**IMPORTANT:** You will need **git** for the data project in a few needs. Better learn it know. Remember, that the teaching assistants are there to help you.\n",
    "\n"
   ]
  },
  {
   "cell_type": "markdown",
   "metadata": {},
   "source": [
    "# Problem"
   ]
  },
  {
   "cell_type": "markdown",
   "metadata": {},
   "source": [
    "Consider an **exchange economy** with\n",
    "\n",
    "1. 2 goods, $(x_1,x_2)$\n",
    "2. $N$ consumers indexed by $j \\in \\{1,2,\\dots,N\\}$\n",
    "3. Preferences are Cobb-Douglas with truncated normally *heterogenous* coefficients\n",
    "\n",
    "    $$\n",
    "    \\begin{aligned}\n",
    "    u^{j}(x_{1},x_{2}) & = x_{1}^{\\alpha_{j}}x_{2}^{1-\\alpha_{j}}\\\\\n",
    "     & \\tilde{\\alpha}_{j}\\sim\\mathcal{N}(\\mu,\\sigma)\\\\\n",
    "     & \\alpha_j = \\max(\\underline{\\mu},\\min(\\overline{\\mu},\\tilde{\\alpha}_{j}))\n",
    "    \\end{aligned}\n",
    "    $$\n",
    "\n",
    "4. Endowments are *heterogenous* and given by\n",
    "\n",
    "    $$\n",
    "    \\begin{aligned}\n",
    "    \\boldsymbol{e}^{j}&=(e_{1}^{j},e_{2}^{j}) \\\\\n",
    "     &  & e_i^j \\sim f, f(x,\\beta_i) =  1/\\beta_i \\exp(-x/\\beta)\n",
    "    \\end{aligned}\n",
    "    $$"
   ]
  },
  {
   "cell_type": "markdown",
   "metadata": {},
   "source": [
    "**Problem:** Write a function to solve for the equilibrium."
   ]
  },
  {
   "cell_type": "markdown",
   "metadata": {},
   "source": [
    "**Answer:**"
   ]
  },
  {
   "cell_type": "code",
   "execution_count": 13,
   "metadata": {},
   "outputs": [
    {
     "name": "stdout",
     "output_type": "stream",
     "text": [
      "1.62056\n"
     ]
    }
   ],
   "source": [
    "# Import the numpy library for numerical operations and scipy for optimization\n",
    "import numpy as np\n",
    "from scipy import optimize\n",
    "\n",
    "## Define parameters for the market simulation\n",
    "# Set number of agents in the simulation\n",
    "N = 10000 \n",
    "\n",
    "# Mean of the normal distribution for preferences\n",
    "mu = 0.5 \n",
    "\n",
    "# Standard deviation of preferences\n",
    "sigma = 0.2  \n",
    "\n",
    "# Minimum preference threshold\n",
    "mu_low = 0.1  \n",
    "\n",
    "# Maximum preference threshold\n",
    "mu_high = 0.9\n",
    "\n",
    "# Parameter for the exponential distribution of endowments for good 1\n",
    "beta_1 = 1.3\n",
    "\n",
    "# Parameter for the exponential distribution of endowments for good 2\n",
    "beta_2 = 2.1  \n",
    "\n",
    "# Random seed for reproducibility\n",
    "seed = 1986  \n",
    "\n",
    "# Ensure reproducibility by initializing the random number generator\n",
    "np.random.seed(seed)\n",
    "\n",
    "# Generate individual-specific preferences from a normal distribution and ensure they fall inside the bounds\n",
    "alpha_tilde_j = np.random.normal(loc=mu, scale=sigma, size=N)\n",
    "alpha_j = np.fmax(mu_low, np.fmin(mu_high, alpha_tilde_j))\n",
    "\n",
    "# Generate individual endowments for each good from an exponential distribution\n",
    "e_j_1 = np.random.exponential(scale=beta_1, size=N)\n",
    "e_j_2 = np.random.exponential(scale=beta_2, size=N)\n",
    "\n",
    "# Define the demand function for good 1, accounting for preferences, prices, and endowments\n",
    "def demand_good_1(alpha_j, p_1, p_2, e_j_1, e_j_2):\n",
    "    # Income based on endowments and prices\n",
    "    I = p_1 * e_j_1 + p_2 * e_j_2\n",
    "\n",
    "    # Demand for good 1 as a function of income, price, and preferences\n",
    "    x_1 = alpha_j * I / p_1\n",
    "\n",
    "    # Aggregate demand\n",
    "    return np.sum(x_1)  \n",
    "\n",
    "# Compute the excess demand for good 1 by comparing total demand to total supply\n",
    "def excess_demand_good_1(alpha_j, p_1, p_2, e_j_1, e_j_2):\n",
    "\n",
    "    # Total demand for good 1\n",
    "    demand_x_1 = demand_good_1(alpha_j, p_1, p_2, e_j_1, e_j_2)\n",
    "\n",
    "    # Total supply of good 1\n",
    "    supply_x_1 = np.sum(e_j_1)\n",
    "\n",
    "    # Excess demand is the difference between demand and supply\n",
    "    return demand_x_1 - supply_x_1  \n",
    "\n",
    "from scipy import optimize\n",
    "\n",
    "def find_equilibrium(alpha_j, p_1_initial, p_2, e_j_1, e_j_2):\n",
    "    # Objective function: calculates excess demand given a price p_1\n",
    "    def obj(p_1):\n",
    "        return excess_demand_good_1(alpha_j, p_1, p_2, e_j_1, e_j_2)\n",
    "\n",
    "    # Use root finding to solve for equilibrium price\n",
    "    res = optimize.root(obj, p_1_initial)\n",
    "    \n",
    "    # Assert if \n",
    "    assert res.success\n",
    "\n",
    "    return res.x[0]\n",
    "\n",
    "# Call function\n",
    "equilibrium = find_equilibrium(alpha_j, 1.0, 1.0, e_j_1, e_j_2)\n",
    "\n",
    "# Print result\n",
    "print(f'{equilibrium:.5f}')\n"
   ]
  },
  {
   "cell_type": "markdown",
   "metadata": {},
   "source": [
    "## Save and load"
   ]
  },
  {
   "cell_type": "markdown",
   "metadata": {},
   "source": [
    "**Question:**"
   ]
  },
  {
   "cell_type": "markdown",
   "metadata": {},
   "source": [
    "Consider the code below and fill in the missing lines so the code can run without any errors."
   ]
  },
  {
   "cell_type": "markdown",
   "metadata": {},
   "source": [
    "**Answer:**"
   ]
  },
  {
   "cell_type": "code",
   "execution_count": 11,
   "metadata": {},
   "outputs": [
    {
     "name": "stdout",
     "output_type": "stream",
     "text": [
      "variables loaded without error\n"
     ]
    }
   ],
   "source": [
    "# Import required modules for data manipulation and storage\n",
    "import numpy as np\n",
    "import pickle\n",
    "\n",
    "# a. Creating a dictionary with mixed data types: strings, NumPy array, and tuple\n",
    "my_data = {}\n",
    "my_data['A'] = {'a' : 1, 'b' : 2}\n",
    "my_data['B'] = np.array([1, 2, 3])\n",
    "my_data['C'] = (1, 4, 2)\n",
    "\n",
    "# Create a dictionary specifically for storing NumPy arrays\n",
    "my_np_data = {}\n",
    "my_np_data['D'] = np.array([1, 2, 3])\n",
    "my_np_data['E'] = np.zeros((5, 8))\n",
    "my_np_data['F'] = np.ones((7, 3, 8))\n",
    "\n",
    "# Save the my_data dictionary using pickle for object serialization\n",
    "with open(f'data.p', 'wb') as f:\n",
    "    pickle.dump(my_data, f)\n",
    "    \n",
    "# Save the my_np_data dictionary as a .npz file, a compressed NumPy file format\n",
    "np.savez(f'data.npz', **my_np_data)\n",
    "    \n",
    "# Function to load data from both pickle and .npz files and print a success message\n",
    "def load_all():\n",
    "    # Load and unpack the pickle file\n",
    "    with open(f'data.p', 'rb') as f:\n",
    "        data = pickle.load(f)\n",
    "        A = data['A']\n",
    "        B = data['B']\n",
    "        C = data['C']\n",
    "\n",
    "    # Load and unpack the .npz file\n",
    "    with np.load(f'data.npz') as data:\n",
    "        D = data['D']\n",
    "        E = data['E']\n",
    "        F = data['F']        \n",
    "    \n",
    "    print('variables loaded without error')\n",
    "    \n",
    "# Attempt to run the load_all function and catch any exceptions\n",
    "try:\n",
    "    load_all()\n",
    "except:\n",
    "    print('failed')\n"
   ]
  }
 ],
 "metadata": {
  "kernelspec": {
   "display_name": "Python 3 (ipykernel)",
   "language": "python",
   "name": "python3"
  },
  "language_info": {
   "codemirror_mode": {
    "name": "ipython",
    "version": 3
   },
   "file_extension": ".py",
   "mimetype": "text/x-python",
   "name": "python",
   "nbconvert_exporter": "python",
   "pygments_lexer": "ipython3",
   "version": "3.9.16"
  },
  "toc-autonumbering": true
 },
 "nbformat": 4,
 "nbformat_minor": 4
}
